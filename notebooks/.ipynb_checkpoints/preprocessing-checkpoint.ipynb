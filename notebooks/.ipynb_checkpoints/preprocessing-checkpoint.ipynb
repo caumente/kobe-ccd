{
 "cells": [
  {
   "cell_type": "markdown",
   "metadata": {},
   "source": [
    "\n",
    "# Table of Contents\n",
    "\n",
    "\n",
    "$\\;\\;\\;$ 1. [Data Selection](#data_selection)<br>\n",
    "$\\;\\;\\;\\;\\;\\;$ 1.1. [Import libraries](#libraries)<br>\n",
    "$\\;\\;\\;\\;\\;\\;$ 2.2. [Load data](#load_data)<br>\n",
    "$\\;\\;\\;$ 2. [Data Processing](#data_processing)<br>\n",
    "$\\;\\;\\;\\;\\;\\;$ 2.1. [Casting types of variables](#casting)<br>\n",
    "$\\;\\;\\;\\;\\;\\;$ 2.2. [Check missing values](#missing)<br>\n",
    "$\\;\\;\\;\\;\\;\\;$ 2.3. [Exploratory analysis](#exploratory)<br>\n",
    "$\\;\\;\\;\\;\\;\\;$ 2.4. [Processing and selecting features](#select_features)<br>\n",
    "$\\;\\;\\;\\;\\;\\;\\;\\;\\;$ 2.4.1. [Quantitative features](#select_quantitatives)<br>\n",
    "$\\;\\;\\;\\;\\;\\;\\;\\;\\;$ 1.4.2. [Qualitarive features](#select_qualitatives)<br>\n",
    "$\\;\\;\\;$ 3. [Data transformation](#data_transformation)<br>\n",
    "$\\;\\;\\;\\;\\;\\;$ 3.1. [Opponents](#opponent)<br>\n",
    "$\\;\\;\\;\\;\\;\\;$ 3.2. [Time](#time)<br>\n",
    "$\\;\\;\\;\\;\\;\\;$ 3.3. [Date](#date)<br>\n",
    "$\\;\\;\\;\\;\\;\\;$ 3.4. [One hot encoding](#hot_encoding)<br>\n",
    "$\\;\\;\\;$ 4. [Data Mining](#modelling)<br>\n",
    "$\\;\\;\\;\\;\\;\\;$ 4.1. [Splitting data](#splitting)<br>\n",
    "$\\;\\;\\;\\;\\;\\;$ 4.2. [Scaler](#scaler)<br>\n",
    "$\\;\\;\\;\\;\\;\\;$ 4.3. [Feature selecion](#select)<br>\n",
    "$\\;\\;\\;\\;\\;\\;$ 4.3. [First modelling](#first)<br>\n",
    "\n",
    "\n"
   ]
  },
  {
   "cell_type": "markdown",
   "metadata": {},
   "source": [
    "# 1. Data Selection\n",
    "\n",
    "<a id='data_selection'></a>"
   ]
  },
  {
   "cell_type": "markdown",
   "metadata": {},
   "source": [
    "# 1.1. Import libraries\n",
    "\n",
    "<a id='libraries'></a>"
   ]
  },
  {
   "cell_type": "code",
   "execution_count": 1,
   "metadata": {},
   "outputs": [],
   "source": [
    "import time\n",
    "import pandas as pd\n",
    "import warnings\n",
    "warnings.filterwarnings(\"ignore\")\n",
    "warnings.simplefilter(action='ignore', category=FutureWarning)\n",
    "import numpy as np\n",
    "from sklearn.model_selection import train_test_split\n",
    "from scipy.stats import pearsonr\n",
    "import seaborn as sns\n",
    "import matplotlib.pyplot as plt\n",
    "%matplotlib inline\n",
    "\n",
    "\n",
    "from sklearn.model_selection import KFold, cross_val_score, StratifiedKFold, GridSearchCV, RandomizedSearchCV\n",
    "from sklearn.linear_model import LogisticRegression\n",
    "from sklearn.discriminant_analysis import LinearDiscriminantAnalysis, QuadraticDiscriminantAnalysis\n",
    "from sklearn.ensemble import AdaBoostClassifier, BaggingClassifier, GradientBoostingClassifier\n",
    "from sklearn.ensemble import RandomForestClassifier, VotingClassifier, ExtraTreesClassifier\n",
    "from sklearn.naive_bayes import GaussianNB\n",
    "from sklearn.neighbors import KNeighborsClassifier\n",
    "from sklearn.neural_network import MLPClassifier\n",
    "from xgboost import XGBClassifier\n",
    "from sklearn.feature_selection import SelectPercentile, RFE, RFECV\n",
    "from sklearn.preprocessing import StandardScaler\n",
    "from sklearn.pipeline import Pipeline\n",
    "from sklearn import metrics"
   ]
  },
  {
   "cell_type": "markdown",
   "metadata": {},
   "source": [
    "# 1.2. Load data\n",
    "\n",
    "<a id='load_data'></a>"
   ]
  },
  {
   "cell_type": "code",
   "execution_count": 2,
   "metadata": {
    "scrolled": true
   },
   "outputs": [
    {
     "name": "stdout",
     "output_type": "stream",
     "text": [
      "Size of data loaded: 30697\n"
     ]
    },
    {
     "data": {
      "text/html": [
       "<div>\n",
       "<style scoped>\n",
       "    .dataframe tbody tr th:only-of-type {\n",
       "        vertical-align: middle;\n",
       "    }\n",
       "\n",
       "    .dataframe tbody tr th {\n",
       "        vertical-align: top;\n",
       "    }\n",
       "\n",
       "    .dataframe thead th {\n",
       "        text-align: right;\n",
       "    }\n",
       "</style>\n",
       "<table border=\"1\" class=\"dataframe\">\n",
       "  <thead>\n",
       "    <tr style=\"text-align: right;\">\n",
       "      <th></th>\n",
       "      <th>action_type</th>\n",
       "      <th>combined_shot_type</th>\n",
       "      <th>game_event_id</th>\n",
       "      <th>game_id</th>\n",
       "      <th>lat</th>\n",
       "      <th>loc_x</th>\n",
       "      <th>loc_y</th>\n",
       "      <th>lon</th>\n",
       "      <th>minutes_remaining</th>\n",
       "      <th>period</th>\n",
       "      <th>...</th>\n",
       "      <th>shot_made_flag</th>\n",
       "      <th>shot_type</th>\n",
       "      <th>shot_zone_area</th>\n",
       "      <th>shot_zone_basic</th>\n",
       "      <th>shot_zone_range</th>\n",
       "      <th>team_id</th>\n",
       "      <th>team_name</th>\n",
       "      <th>game_date</th>\n",
       "      <th>matchup</th>\n",
       "      <th>opponent</th>\n",
       "    </tr>\n",
       "    <tr>\n",
       "      <th>shot_id</th>\n",
       "      <th></th>\n",
       "      <th></th>\n",
       "      <th></th>\n",
       "      <th></th>\n",
       "      <th></th>\n",
       "      <th></th>\n",
       "      <th></th>\n",
       "      <th></th>\n",
       "      <th></th>\n",
       "      <th></th>\n",
       "      <th></th>\n",
       "      <th></th>\n",
       "      <th></th>\n",
       "      <th></th>\n",
       "      <th></th>\n",
       "      <th></th>\n",
       "      <th></th>\n",
       "      <th></th>\n",
       "      <th></th>\n",
       "      <th></th>\n",
       "      <th></th>\n",
       "    </tr>\n",
       "  </thead>\n",
       "  <tbody>\n",
       "    <tr>\n",
       "      <td>1</td>\n",
       "      <td>Jump Shot</td>\n",
       "      <td>Jump Shot</td>\n",
       "      <td>10</td>\n",
       "      <td>20000012</td>\n",
       "      <td>33.9723</td>\n",
       "      <td>167</td>\n",
       "      <td>72</td>\n",
       "      <td>-118.1028</td>\n",
       "      <td>10</td>\n",
       "      <td>1</td>\n",
       "      <td>...</td>\n",
       "      <td>NaN</td>\n",
       "      <td>2PT Field Goal</td>\n",
       "      <td>Right Side(R)</td>\n",
       "      <td>Mid-Range</td>\n",
       "      <td>16-24 ft.</td>\n",
       "      <td>1610612747</td>\n",
       "      <td>Los Angeles Lakers</td>\n",
       "      <td>2000-10-31</td>\n",
       "      <td>LAL @ POR</td>\n",
       "      <td>POR</td>\n",
       "    </tr>\n",
       "    <tr>\n",
       "      <td>2</td>\n",
       "      <td>Jump Shot</td>\n",
       "      <td>Jump Shot</td>\n",
       "      <td>12</td>\n",
       "      <td>20000012</td>\n",
       "      <td>34.0443</td>\n",
       "      <td>-157</td>\n",
       "      <td>0</td>\n",
       "      <td>-118.4268</td>\n",
       "      <td>10</td>\n",
       "      <td>1</td>\n",
       "      <td>...</td>\n",
       "      <td>0.0</td>\n",
       "      <td>2PT Field Goal</td>\n",
       "      <td>Left Side(L)</td>\n",
       "      <td>Mid-Range</td>\n",
       "      <td>8-16 ft.</td>\n",
       "      <td>1610612747</td>\n",
       "      <td>Los Angeles Lakers</td>\n",
       "      <td>2000-10-31</td>\n",
       "      <td>LAL @ POR</td>\n",
       "      <td>POR</td>\n",
       "    </tr>\n",
       "    <tr>\n",
       "      <td>3</td>\n",
       "      <td>Jump Shot</td>\n",
       "      <td>Jump Shot</td>\n",
       "      <td>35</td>\n",
       "      <td>20000012</td>\n",
       "      <td>33.9093</td>\n",
       "      <td>-101</td>\n",
       "      <td>135</td>\n",
       "      <td>-118.3708</td>\n",
       "      <td>7</td>\n",
       "      <td>1</td>\n",
       "      <td>...</td>\n",
       "      <td>1.0</td>\n",
       "      <td>2PT Field Goal</td>\n",
       "      <td>Left Side Center(LC)</td>\n",
       "      <td>Mid-Range</td>\n",
       "      <td>16-24 ft.</td>\n",
       "      <td>1610612747</td>\n",
       "      <td>Los Angeles Lakers</td>\n",
       "      <td>2000-10-31</td>\n",
       "      <td>LAL @ POR</td>\n",
       "      <td>POR</td>\n",
       "    </tr>\n",
       "    <tr>\n",
       "      <td>4</td>\n",
       "      <td>Jump Shot</td>\n",
       "      <td>Jump Shot</td>\n",
       "      <td>43</td>\n",
       "      <td>20000012</td>\n",
       "      <td>33.8693</td>\n",
       "      <td>138</td>\n",
       "      <td>175</td>\n",
       "      <td>-118.1318</td>\n",
       "      <td>6</td>\n",
       "      <td>1</td>\n",
       "      <td>...</td>\n",
       "      <td>0.0</td>\n",
       "      <td>2PT Field Goal</td>\n",
       "      <td>Right Side Center(RC)</td>\n",
       "      <td>Mid-Range</td>\n",
       "      <td>16-24 ft.</td>\n",
       "      <td>1610612747</td>\n",
       "      <td>Los Angeles Lakers</td>\n",
       "      <td>2000-10-31</td>\n",
       "      <td>LAL @ POR</td>\n",
       "      <td>POR</td>\n",
       "    </tr>\n",
       "    <tr>\n",
       "      <td>5</td>\n",
       "      <td>Driving Dunk Shot</td>\n",
       "      <td>Dunk</td>\n",
       "      <td>155</td>\n",
       "      <td>20000012</td>\n",
       "      <td>34.0443</td>\n",
       "      <td>0</td>\n",
       "      <td>0</td>\n",
       "      <td>-118.2698</td>\n",
       "      <td>6</td>\n",
       "      <td>2</td>\n",
       "      <td>...</td>\n",
       "      <td>1.0</td>\n",
       "      <td>2PT Field Goal</td>\n",
       "      <td>Center(C)</td>\n",
       "      <td>Restricted Area</td>\n",
       "      <td>Less Than 8 ft.</td>\n",
       "      <td>1610612747</td>\n",
       "      <td>Los Angeles Lakers</td>\n",
       "      <td>2000-10-31</td>\n",
       "      <td>LAL @ POR</td>\n",
       "      <td>POR</td>\n",
       "    </tr>\n",
       "  </tbody>\n",
       "</table>\n",
       "<p>5 rows × 24 columns</p>\n",
       "</div>"
      ],
      "text/plain": [
       "               action_type combined_shot_type  game_event_id   game_id  \\\n",
       "shot_id                                                                  \n",
       "1                Jump Shot          Jump Shot             10  20000012   \n",
       "2                Jump Shot          Jump Shot             12  20000012   \n",
       "3                Jump Shot          Jump Shot             35  20000012   \n",
       "4                Jump Shot          Jump Shot             43  20000012   \n",
       "5        Driving Dunk Shot               Dunk            155  20000012   \n",
       "\n",
       "             lat  loc_x  loc_y       lon  minutes_remaining  period  ...  \\\n",
       "shot_id                                                              ...   \n",
       "1        33.9723    167     72 -118.1028                 10       1  ...   \n",
       "2        34.0443   -157      0 -118.4268                 10       1  ...   \n",
       "3        33.9093   -101    135 -118.3708                  7       1  ...   \n",
       "4        33.8693    138    175 -118.1318                  6       1  ...   \n",
       "5        34.0443      0      0 -118.2698                  6       2  ...   \n",
       "\n",
       "         shot_made_flag       shot_type         shot_zone_area  \\\n",
       "shot_id                                                          \n",
       "1                   NaN  2PT Field Goal          Right Side(R)   \n",
       "2                   0.0  2PT Field Goal           Left Side(L)   \n",
       "3                   1.0  2PT Field Goal   Left Side Center(LC)   \n",
       "4                   0.0  2PT Field Goal  Right Side Center(RC)   \n",
       "5                   1.0  2PT Field Goal              Center(C)   \n",
       "\n",
       "         shot_zone_basic  shot_zone_range     team_id           team_name  \\\n",
       "shot_id                                                                     \n",
       "1              Mid-Range        16-24 ft.  1610612747  Los Angeles Lakers   \n",
       "2              Mid-Range         8-16 ft.  1610612747  Los Angeles Lakers   \n",
       "3              Mid-Range        16-24 ft.  1610612747  Los Angeles Lakers   \n",
       "4              Mid-Range        16-24 ft.  1610612747  Los Angeles Lakers   \n",
       "5        Restricted Area  Less Than 8 ft.  1610612747  Los Angeles Lakers   \n",
       "\n",
       "         game_date    matchup  opponent  \n",
       "shot_id                                  \n",
       "1       2000-10-31  LAL @ POR       POR  \n",
       "2       2000-10-31  LAL @ POR       POR  \n",
       "3       2000-10-31  LAL @ POR       POR  \n",
       "4       2000-10-31  LAL @ POR       POR  \n",
       "5       2000-10-31  LAL @ POR       POR  \n",
       "\n",
       "[5 rows x 24 columns]"
      ]
     },
     "execution_count": 2,
     "metadata": {},
     "output_type": "execute_result"
    }
   ],
   "source": [
    "df = pd.read_csv(\"./../data/data.csv\", header=0, index_col=\"shot_id\", parse_dates=['game_date'])\n",
    "print(\"Size of data loaded:\", len(df))\n",
    "\n",
    "df.head()"
   ]
  },
  {
   "cell_type": "markdown",
   "metadata": {},
   "source": [
    "# 2. Data Processing\n",
    "\n",
    "<a id='data_processing'></a>"
   ]
  },
  {
   "cell_type": "markdown",
   "metadata": {},
   "source": [
    "## 2.1. Casting types of variables\n",
    "\n",
    "<a id='casting'></a>"
   ]
  },
  {
   "cell_type": "code",
   "execution_count": 3,
   "metadata": {},
   "outputs": [
    {
     "data": {
      "text/plain": [
       "action_type                   object\n",
       "combined_shot_type            object\n",
       "game_event_id                  int64\n",
       "game_id                        int64\n",
       "lat                          float64\n",
       "loc_x                          int64\n",
       "loc_y                          int64\n",
       "lon                          float64\n",
       "minutes_remaining              int64\n",
       "period                         int64\n",
       "playoffs                       int64\n",
       "season                        object\n",
       "seconds_remaining              int64\n",
       "shot_distance                  int64\n",
       "shot_made_flag               float64\n",
       "shot_type                     object\n",
       "shot_zone_area                object\n",
       "shot_zone_basic               object\n",
       "shot_zone_range               object\n",
       "team_id                        int64\n",
       "team_name                     object\n",
       "game_date             datetime64[ns]\n",
       "matchup                       object\n",
       "opponent                      object\n",
       "dtype: object"
      ]
     },
     "execution_count": 3,
     "metadata": {},
     "output_type": "execute_result"
    }
   ],
   "source": [
    "df.dtypes"
   ]
  },
  {
   "cell_type": "code",
   "execution_count": 4,
   "metadata": {},
   "outputs": [],
   "source": [
    "df[\"period\"] = df[\"period\"].astype('category')\n",
    "df[\"season\"] = df[\"season\"].astype('category')\n",
    "df[\"team_id\"] = df[\"team_id\"].astype('category')\n",
    "df[\"game_id\"] = df[\"game_id\"].astype('category')\n",
    "df[\"opponent\"] = df[\"opponent\"].astype('category')\n",
    "df[\"playoffs\"] = df[\"playoffs\"].astype('category')\n",
    "df[\"shot_type\"] = df[\"shot_type\"].astype('category')\n",
    "df[\"action_type\"] = df[\"action_type\"].astype('category')\n",
    "df[\"game_event_id\"] = df[\"game_event_id\"].astype('category')\n",
    "df[\"shot_zone_area\"] = df[\"shot_zone_area\"].astype('category')\n",
    "df[\"shot_zone_basic\"] = df[\"shot_zone_basic\"].astype('category')\n",
    "df[\"shot_zone_range\"] = df[\"shot_zone_range\"].astype('category')\n",
    "df[\"combined_shot_type\"] = df[\"combined_shot_type\"].astype('category')"
   ]
  },
  {
   "cell_type": "markdown",
   "metadata": {},
   "source": [
    "## 2.2. Check missing values\n",
    "\n",
    "<a id='missing'></a>"
   ]
  },
  {
   "cell_type": "code",
   "execution_count": 5,
   "metadata": {},
   "outputs": [
    {
     "data": {
      "text/plain": [
       "action_type              0\n",
       "combined_shot_type       0\n",
       "game_event_id            0\n",
       "game_id                  0\n",
       "lat                      0\n",
       "loc_x                    0\n",
       "loc_y                    0\n",
       "lon                      0\n",
       "minutes_remaining        0\n",
       "period                   0\n",
       "playoffs                 0\n",
       "season                   0\n",
       "seconds_remaining        0\n",
       "shot_distance            0\n",
       "shot_made_flag        5000\n",
       "shot_type                0\n",
       "shot_zone_area           0\n",
       "shot_zone_basic          0\n",
       "shot_zone_range          0\n",
       "team_id                  0\n",
       "team_name                0\n",
       "game_date                0\n",
       "matchup                  0\n",
       "opponent                 0\n",
       "dtype: int64"
      ]
     },
     "execution_count": 5,
     "metadata": {},
     "output_type": "execute_result"
    }
   ],
   "source": [
    "df.isnull().sum()"
   ]
  },
  {
   "cell_type": "markdown",
   "metadata": {},
   "source": [
    "## 2.3. Exploratory analysis\n",
    "\n",
    "<a id='exploratory'></a>"
   ]
  },
  {
   "cell_type": "code",
   "execution_count": 6,
   "metadata": {},
   "outputs": [
    {
     "data": {
      "image/png": "[encoded data removed]",
      "text/plain": [
       "<Figure size 1440x360 with 1 Axes>"
      ]
     },
     "metadata": {
      "needs_background": "light"
     },
     "output_type": "display_data"
    }
   ],
   "source": [
    "plt.figure(figsize=(20,5))\n",
    "sns.countplot('shot_zone_range',hue='shot_made_flag',data=df[df.shot_made_flag.notnull()])\n",
    "plt.title('misses and baskets from each zone_range')\n",
    "plt.show()"
   ]
  },
  {
   "cell_type": "code",
   "execution_count": 7,
   "metadata": {},
   "outputs": [
    {
     "data": {
      "image/png": "[encoded data removed]",
      "text/plain": [
       "<Figure size 1440x360 with 1 Axes>"
      ]
     },
     "metadata": {
      "needs_background": "light"
     },
     "output_type": "display_data"
    }
   ],
   "source": [
    "plt.figure(figsize=(20,5))\n",
    "sns.countplot('shot_zone_basic',hue='shot_made_flag',data=df[df.shot_made_flag.notnull()])\n",
    "plt.title('misses and baskets from each zone_basic')\n",
    "plt.show()"
   ]
  },
  {
   "cell_type": "code",
   "execution_count": 8,
   "metadata": {
    "scrolled": false
   },
   "outputs": [
    {
     "data": {
      "image/png": "[encoded data removed]",
      "text/plain": [
       "<Figure size 1600x640 with 1 Axes>"
      ]
     },
     "metadata": {},
     "output_type": "display_data"
    },
    {
     "data": {
      "image/png": "[encoded data removed]",
      "text/plain": [
       "<Figure size 1600x640 with 1 Axes>"
      ]
     },
     "metadata": {},
     "output_type": "display_data"
    },
    {
     "data": {
      "image/png": "[encoded data removed]",
      "text/plain": [
       "<Figure size 1600x640 with 1 Axes>"
      ]
     },
     "metadata": {},
     "output_type": "display_data"
    },
    {
     "data": {
      "image/png": "[encoded data removed]",
      "text/plain": [
       "<Figure size 1600x640 with 1 Axes>"
      ]
     },
     "metadata": {},
     "output_type": "display_data"
    },
    {
     "data": {
      "image/png": "[encoded data removed]",
      "text/plain": [
       "<Figure size 1600x640 with 1 Axes>"
      ]
     },
     "metadata": {},
     "output_type": "display_data"
    },
    {
     "data": {
      "image/png": "[encoded data removed]",
      "text/plain": [
       "<Figure size 1600x640 with 1 Axes>"
      ]
     },
     "metadata": {},
     "output_type": "display_data"
    },
    {
     "data": {
      "image/png": "[encoded data removed]",
      "text/plain": [
       "<Figure size 1600x640 with 1 Axes>"
      ]
     },
     "metadata": {},
     "output_type": "display_data"
    },
    {
     "data": {
      "image/png": "[encoded data removed]",
      "text/plain": [
       "<Figure size 1600x640 with 1 Axes>"
      ]
     },
     "metadata": {},
     "output_type": "display_data"
    },
    {
     "data": {
      "image/png": "[encoded data removed]",
      "text/plain": [
       "<Figure size 1600x640 with 1 Axes>"
      ]
     },
     "metadata": {},
     "output_type": "display_data"
    },
    {
     "data": {
      "image/png": "[encoded data removed]",
      "text/plain": [
       "<Figure size 1600x640 with 1 Axes>"
      ]
     },
     "metadata": {},
     "output_type": "display_data"
    },
    {
     "data": {
      "image/png": "[encoded data removed]",
      "text/plain": [
       "<Figure size 1600x640 with 1 Axes>"
      ]
     },
     "metadata": {},
     "output_type": "display_data"
    }
   ],
   "source": [
    "cols = [\"combined_shot_type\", \"period\", \"playoffs\", \"season\", \"shot_type\", \"shot_zone_area\", \"shot_zone_basic\", \"shot_zone_range\", \"team_id\", \"team_name\", \"opponent\"]\n",
    "\n",
    "for c in cols:\n",
    "    plt.figure(figsize=(20, 8), dpi=80, facecolor='w', edgecolor='k')\n",
    "    ax = plt.axes()\n",
    "    sns.countplot(x=c, data=df, ax=ax);\n",
    "    ax.set_title(c)\n",
    "    plt.xticks(rotation=90)\n",
    "    plt.show()"
   ]
  },
  {
   "cell_type": "markdown",
   "metadata": {},
   "source": [
    "# 2.4. Processing and selecting features\n",
    "\n",
    "<a id='select_features'> </a>"
   ]
  },
  {
   "cell_type": "markdown",
   "metadata": {},
   "source": [
    "# 2.4.1. Quantitative features\n",
    "\n",
    "<a id='select_quantitatives'> </a>"
   ]
  },
  {
   "cell_type": "markdown",
   "metadata": {},
   "source": [
    "Comenzaremos el análisis de nuestras características por las variables cuantitativas. En este sentido, vamos a analizar la correlacion que existe entre cada una de esas variables con el fin de poder descartar alguna de ellas si es que poseen alta correlación. Esto es importante para posteriormente no introducir información redundante a la hora de entrenar nuestro modelo."
   ]
  },
  {
   "cell_type": "markdown",
   "metadata": {},
   "source": [
    "### Matrix correlation"
   ]
  },
  {
   "cell_type": "code",
   "execution_count": 9,
   "metadata": {},
   "outputs": [
    {
     "data": {
      "image/png": "[encoded data removed]",
      "text/plain": [
       "<Figure size 720x648 with 2 Axes>"
      ]
     },
     "metadata": {},
     "output_type": "display_data"
    }
   ],
   "source": [
    "sns.set(style=\"white\")\n",
    "\n",
    "# Compute the correlation matrix\n",
    "corr = df.corr()\n",
    "\n",
    "# Generate a mask for the upper triangle\n",
    "mask = np.zeros_like(corr, dtype=np.bool)\n",
    "mask[np.triu_indices_from(mask)] = True\n",
    "\n",
    "# Set up the matplotlib figure\n",
    "f, ax = plt.subplots(figsize=(10, 9))\n",
    "\n",
    "# Generate a custom diverging colormap\n",
    "cmap = sns.diverging_palette(220, 10, as_cmap=True)\n",
    "\n",
    "# Draw the heatmap with the mask and correct aspect ratio\n",
    "sns.heatmap(corr, mask=mask, cmap=cmap, center=0, square=True, linewidths=.5, cbar_kws={\"shrink\": .5})\n",
    "bottom, top = ax.get_ylim()\n",
    "ax.set_ylim(bottom + 0.5, top - 0.5)\n",
    "plt.show()"
   ]
  },
  {
   "cell_type": "markdown",
   "metadata": {},
   "source": [
    "Nos encontramos que tenemos dos pares de variables que están completamente correlacionadas entre sí, lon-loc_x y lat-loc_y. Con el fin de no introducir información redundante en nuestro modelo, procederemos a eliminar de nuestro conjunto de datos dichas variables."
   ]
  },
  {
   "cell_type": "markdown",
   "metadata": {},
   "source": [
    "### Drop continuous variables"
   ]
  },
  {
   "cell_type": "code",
   "execution_count": 10,
   "metadata": {},
   "outputs": [
    {
     "name": "stdout",
     "output_type": "stream",
     "text": [
      "Pearson correlation between lat and loc_y variables: -1.00\n",
      "Pearson correlation between lon and loc_x variables: 1.00\n"
     ]
    }
   ],
   "source": [
    "print(\"Pearson correlation between lat and loc_y variables: %.2f\" % pearsonr(df.lat, df.loc_y)[0])\n",
    "df.drop('lat', axis=1, inplace=True)\n",
    "\n",
    "print(\"Pearson correlation between lon and loc_x variables: %.2f\" % pearsonr(df.lon, df.loc_x)[0])\n",
    "df.drop('lon', axis=1, inplace=True)"
   ]
  },
  {
   "cell_type": "markdown",
   "metadata": {},
   "source": [
    "# 2.4.2. Qualitative features\n",
    "\n",
    "<a id='select_qualitatives'> </a>"
   ]
  },
  {
   "cell_type": "markdown",
   "metadata": {},
   "source": [
    "En cuanto a las variables cualitativas, como no podemos estudiar la correlacion de Pearson, vamos a indagar en como están distribuidos los valores en cada variables con el fin de encontrar la forma de disminuir el número de variables."
   ]
  },
  {
   "cell_type": "code",
   "execution_count": 11,
   "metadata": {},
   "outputs": [
    {
     "data": {
      "text/html": [
       "<div>\n",
       "<style scoped>\n",
       "    .dataframe tbody tr th:only-of-type {\n",
       "        vertical-align: middle;\n",
       "    }\n",
       "\n",
       "    .dataframe tbody tr th {\n",
       "        vertical-align: top;\n",
       "    }\n",
       "\n",
       "    .dataframe thead th {\n",
       "        text-align: right;\n",
       "    }\n",
       "</style>\n",
       "<table border=\"1\" class=\"dataframe\">\n",
       "  <thead>\n",
       "    <tr style=\"text-align: right;\">\n",
       "      <th></th>\n",
       "      <th>action_type</th>\n",
       "      <th>combined_shot_type</th>\n",
       "      <th>game_event_id</th>\n",
       "      <th>game_id</th>\n",
       "      <th>period</th>\n",
       "      <th>playoffs</th>\n",
       "      <th>season</th>\n",
       "      <th>shot_type</th>\n",
       "      <th>shot_zone_area</th>\n",
       "      <th>shot_zone_basic</th>\n",
       "      <th>shot_zone_range</th>\n",
       "      <th>team_id</th>\n",
       "      <th>team_name</th>\n",
       "      <th>matchup</th>\n",
       "      <th>opponent</th>\n",
       "    </tr>\n",
       "  </thead>\n",
       "  <tbody>\n",
       "    <tr>\n",
       "      <td>count</td>\n",
       "      <td>30697</td>\n",
       "      <td>30697</td>\n",
       "      <td>30697</td>\n",
       "      <td>30697</td>\n",
       "      <td>30697</td>\n",
       "      <td>30697</td>\n",
       "      <td>30697</td>\n",
       "      <td>30697</td>\n",
       "      <td>30697</td>\n",
       "      <td>30697</td>\n",
       "      <td>30697</td>\n",
       "      <td>30697</td>\n",
       "      <td>30697</td>\n",
       "      <td>30697</td>\n",
       "      <td>30697</td>\n",
       "    </tr>\n",
       "    <tr>\n",
       "      <td>unique</td>\n",
       "      <td>57</td>\n",
       "      <td>6</td>\n",
       "      <td>620</td>\n",
       "      <td>1559</td>\n",
       "      <td>7</td>\n",
       "      <td>2</td>\n",
       "      <td>20</td>\n",
       "      <td>2</td>\n",
       "      <td>6</td>\n",
       "      <td>7</td>\n",
       "      <td>5</td>\n",
       "      <td>1</td>\n",
       "      <td>1</td>\n",
       "      <td>74</td>\n",
       "      <td>33</td>\n",
       "    </tr>\n",
       "    <tr>\n",
       "      <td>top</td>\n",
       "      <td>Jump Shot</td>\n",
       "      <td>Jump Shot</td>\n",
       "      <td>2</td>\n",
       "      <td>21501228</td>\n",
       "      <td>3</td>\n",
       "      <td>0</td>\n",
       "      <td>2005-06</td>\n",
       "      <td>2PT Field Goal</td>\n",
       "      <td>Center(C)</td>\n",
       "      <td>Mid-Range</td>\n",
       "      <td>Less Than 8 ft.</td>\n",
       "      <td>1610612747</td>\n",
       "      <td>Los Angeles Lakers</td>\n",
       "      <td>LAL @ SAS</td>\n",
       "      <td>SAS</td>\n",
       "    </tr>\n",
       "    <tr>\n",
       "      <td>freq</td>\n",
       "      <td>18880</td>\n",
       "      <td>23485</td>\n",
       "      <td>132</td>\n",
       "      <td>50</td>\n",
       "      <td>8296</td>\n",
       "      <td>26198</td>\n",
       "      <td>2318</td>\n",
       "      <td>24271</td>\n",
       "      <td>13455</td>\n",
       "      <td>12625</td>\n",
       "      <td>9398</td>\n",
       "      <td>30697</td>\n",
       "      <td>30697</td>\n",
       "      <td>1020</td>\n",
       "      <td>1978</td>\n",
       "    </tr>\n",
       "  </tbody>\n",
       "</table>\n",
       "</div>"
      ],
      "text/plain": [
       "       action_type combined_shot_type  game_event_id   game_id  period  \\\n",
       "count        30697              30697          30697     30697   30697   \n",
       "unique          57                  6            620      1559       7   \n",
       "top      Jump Shot          Jump Shot              2  21501228       3   \n",
       "freq         18880              23485            132        50    8296   \n",
       "\n",
       "        playoffs   season       shot_type shot_zone_area shot_zone_basic  \\\n",
       "count      30697    30697           30697          30697           30697   \n",
       "unique         2       20               2              6               7   \n",
       "top            0  2005-06  2PT Field Goal      Center(C)       Mid-Range   \n",
       "freq       26198     2318           24271          13455           12625   \n",
       "\n",
       "        shot_zone_range     team_id           team_name    matchup opponent  \n",
       "count             30697       30697               30697      30697    30697  \n",
       "unique                5           1                   1         74       33  \n",
       "top     Less Than 8 ft.  1610612747  Los Angeles Lakers  LAL @ SAS      SAS  \n",
       "freq               9398       30697               30697       1020     1978  "
      ]
     },
     "execution_count": 11,
     "metadata": {},
     "output_type": "execute_result"
    }
   ],
   "source": [
    "df.describe(include=['object', 'category'])"
   ]
  },
  {
   "cell_type": "markdown",
   "metadata": {},
   "source": [
    "Como vemos, existen algunas variables que solo cuentan con un único valor. A fines prácticos, poco podrá aprender nuestro modelo de este tipo de caracteristicas."
   ]
  },
  {
   "cell_type": "code",
   "execution_count": 12,
   "metadata": {},
   "outputs": [
    {
     "name": "stdout",
     "output_type": "stream",
     "text": [
      "Different values for team_name variable {'Los Angeles Lakers'}\n",
      "Different values for team_id variable {1610612747}\n"
     ]
    }
   ],
   "source": [
    "print(\"Different values for team_name variable\", set(df.team_name))\n",
    "df.drop('team_name', axis=1, inplace=True)\n",
    "\n",
    "print(\"Different values for team_id variable\", set(df.team_id))\n",
    "df.drop('team_id', axis=1, inplace=True)\n",
    "\n",
    "df.drop('game_event_id', axis=1, inplace=True)\n",
    "df.drop('game_id', axis=1, inplace=True)"
   ]
  },
  {
   "cell_type": "markdown",
   "metadata": {},
   "source": [
    "Las variables con las que contamos hasta el momento son tanto binarias como multietiqueta. No parecen presentar demasiado problema a priori, salvo que quizá tengamos que discretizarlas numéricamente más adelante. La unica variable categorica que no esta incluida en las graficas anteriores es 'action_type'. Tendremos que examinarla con mas detalle, ya que cuanta con 57 etiquetas diferentes."
   ]
  },
  {
   "cell_type": "code",
   "execution_count": 13,
   "metadata": {},
   "outputs": [
    {
     "data": {
      "text/html": [
       "<div>\n",
       "<style scoped>\n",
       "    .dataframe tbody tr th:only-of-type {\n",
       "        vertical-align: middle;\n",
       "    }\n",
       "\n",
       "    .dataframe tbody tr th {\n",
       "        vertical-align: top;\n",
       "    }\n",
       "\n",
       "    .dataframe thead th {\n",
       "        text-align: right;\n",
       "    }\n",
       "</style>\n",
       "<table border=\"1\" class=\"dataframe\">\n",
       "  <thead>\n",
       "    <tr style=\"text-align: right;\">\n",
       "      <th></th>\n",
       "      <th>action_type</th>\n",
       "      <th>combined_shot_type</th>\n",
       "    </tr>\n",
       "    <tr>\n",
       "      <th>shot_id</th>\n",
       "      <th></th>\n",
       "      <th></th>\n",
       "    </tr>\n",
       "  </thead>\n",
       "  <tbody>\n",
       "    <tr>\n",
       "      <td>1</td>\n",
       "      <td>Jump Shot</td>\n",
       "      <td>Jump Shot</td>\n",
       "    </tr>\n",
       "    <tr>\n",
       "      <td>2</td>\n",
       "      <td>Jump Shot</td>\n",
       "      <td>Jump Shot</td>\n",
       "    </tr>\n",
       "    <tr>\n",
       "      <td>3</td>\n",
       "      <td>Jump Shot</td>\n",
       "      <td>Jump Shot</td>\n",
       "    </tr>\n",
       "    <tr>\n",
       "      <td>4</td>\n",
       "      <td>Jump Shot</td>\n",
       "      <td>Jump Shot</td>\n",
       "    </tr>\n",
       "    <tr>\n",
       "      <td>5</td>\n",
       "      <td>Driving Dunk Shot</td>\n",
       "      <td>Dunk</td>\n",
       "    </tr>\n",
       "    <tr>\n",
       "      <td>6</td>\n",
       "      <td>Jump Shot</td>\n",
       "      <td>Jump Shot</td>\n",
       "    </tr>\n",
       "    <tr>\n",
       "      <td>7</td>\n",
       "      <td>Layup Shot</td>\n",
       "      <td>Layup</td>\n",
       "    </tr>\n",
       "    <tr>\n",
       "      <td>8</td>\n",
       "      <td>Jump Shot</td>\n",
       "      <td>Jump Shot</td>\n",
       "    </tr>\n",
       "    <tr>\n",
       "      <td>9</td>\n",
       "      <td>Jump Shot</td>\n",
       "      <td>Jump Shot</td>\n",
       "    </tr>\n",
       "    <tr>\n",
       "      <td>10</td>\n",
       "      <td>Running Jump Shot</td>\n",
       "      <td>Jump Shot</td>\n",
       "    </tr>\n",
       "    <tr>\n",
       "      <td>11</td>\n",
       "      <td>Jump Shot</td>\n",
       "      <td>Jump Shot</td>\n",
       "    </tr>\n",
       "    <tr>\n",
       "      <td>12</td>\n",
       "      <td>Jump Shot</td>\n",
       "      <td>Jump Shot</td>\n",
       "    </tr>\n",
       "    <tr>\n",
       "      <td>13</td>\n",
       "      <td>Running Jump Shot</td>\n",
       "      <td>Jump Shot</td>\n",
       "    </tr>\n",
       "    <tr>\n",
       "      <td>14</td>\n",
       "      <td>Jump Shot</td>\n",
       "      <td>Jump Shot</td>\n",
       "    </tr>\n",
       "    <tr>\n",
       "      <td>15</td>\n",
       "      <td>Jump Shot</td>\n",
       "      <td>Jump Shot</td>\n",
       "    </tr>\n",
       "    <tr>\n",
       "      <td>16</td>\n",
       "      <td>Jump Shot</td>\n",
       "      <td>Jump Shot</td>\n",
       "    </tr>\n",
       "    <tr>\n",
       "      <td>17</td>\n",
       "      <td>Driving Layup Shot</td>\n",
       "      <td>Layup</td>\n",
       "    </tr>\n",
       "    <tr>\n",
       "      <td>18</td>\n",
       "      <td>Jump Shot</td>\n",
       "      <td>Jump Shot</td>\n",
       "    </tr>\n",
       "    <tr>\n",
       "      <td>19</td>\n",
       "      <td>Jump Shot</td>\n",
       "      <td>Jump Shot</td>\n",
       "    </tr>\n",
       "    <tr>\n",
       "      <td>20</td>\n",
       "      <td>Driving Layup Shot</td>\n",
       "      <td>Layup</td>\n",
       "    </tr>\n",
       "    <tr>\n",
       "      <td>21</td>\n",
       "      <td>Jump Shot</td>\n",
       "      <td>Jump Shot</td>\n",
       "    </tr>\n",
       "    <tr>\n",
       "      <td>22</td>\n",
       "      <td>Jump Shot</td>\n",
       "      <td>Jump Shot</td>\n",
       "    </tr>\n",
       "    <tr>\n",
       "      <td>23</td>\n",
       "      <td>Running Jump Shot</td>\n",
       "      <td>Jump Shot</td>\n",
       "    </tr>\n",
       "    <tr>\n",
       "      <td>24</td>\n",
       "      <td>Running Jump Shot</td>\n",
       "      <td>Jump Shot</td>\n",
       "    </tr>\n",
       "    <tr>\n",
       "      <td>25</td>\n",
       "      <td>Running Jump Shot</td>\n",
       "      <td>Jump Shot</td>\n",
       "    </tr>\n",
       "  </tbody>\n",
       "</table>\n",
       "</div>"
      ],
      "text/plain": [
       "                action_type combined_shot_type\n",
       "shot_id                                       \n",
       "1                 Jump Shot          Jump Shot\n",
       "2                 Jump Shot          Jump Shot\n",
       "3                 Jump Shot          Jump Shot\n",
       "4                 Jump Shot          Jump Shot\n",
       "5         Driving Dunk Shot               Dunk\n",
       "6                 Jump Shot          Jump Shot\n",
       "7                Layup Shot              Layup\n",
       "8                 Jump Shot          Jump Shot\n",
       "9                 Jump Shot          Jump Shot\n",
       "10        Running Jump Shot          Jump Shot\n",
       "11                Jump Shot          Jump Shot\n",
       "12                Jump Shot          Jump Shot\n",
       "13        Running Jump Shot          Jump Shot\n",
       "14                Jump Shot          Jump Shot\n",
       "15                Jump Shot          Jump Shot\n",
       "16                Jump Shot          Jump Shot\n",
       "17       Driving Layup Shot              Layup\n",
       "18                Jump Shot          Jump Shot\n",
       "19                Jump Shot          Jump Shot\n",
       "20       Driving Layup Shot              Layup\n",
       "21                Jump Shot          Jump Shot\n",
       "22                Jump Shot          Jump Shot\n",
       "23        Running Jump Shot          Jump Shot\n",
       "24        Running Jump Shot          Jump Shot\n",
       "25        Running Jump Shot          Jump Shot"
      ]
     },
     "execution_count": 13,
     "metadata": {},
     "output_type": "execute_result"
    }
   ],
   "source": [
    "df[[\"action_type\", \"combined_shot_type\"]].head(25)"
   ]
  },
  {
   "cell_type": "code",
   "execution_count": 14,
   "metadata": {},
   "outputs": [
    {
     "name": "stdout",
     "output_type": "stream",
     "text": [
      "Uniques values for action_type: 57\n",
      "Uniques values for combined_shot_type: 6\n"
     ]
    }
   ],
   "source": [
    "print(\"Uniques values for action_type:\",format(str(len(set(df.action_type)))))\n",
    "print(\"Uniques values for combined_shot_type:\",format(str(len(set(df.combined_shot_type)))))"
   ]
  },
  {
   "cell_type": "markdown",
   "metadata": {},
   "source": [
    "Como podemos ver en esta tabla que tenemos encima, parece que la variable 'action_type' aporta mas granularidad aun sobre la variable 'combined_shot_type', es decir, va más aun al detalle. Al introducir tantas casúisticas diferentes, por el momento no vamos a tenerla en cuenta. Además, vamos a suprimir de nuestro dataset otro par de variables que apriori deberían ser precedentes de si Kobe encestó o no, estas son los id asociados a los partidos."
   ]
  },
  {
   "cell_type": "code",
   "execution_count": 15,
   "metadata": {},
   "outputs": [
    {
     "data": {
      "text/html": [
       "<div>\n",
       "<style scoped>\n",
       "    .dataframe tbody tr th:only-of-type {\n",
       "        vertical-align: middle;\n",
       "    }\n",
       "\n",
       "    .dataframe tbody tr th {\n",
       "        vertical-align: top;\n",
       "    }\n",
       "\n",
       "    .dataframe thead th {\n",
       "        text-align: right;\n",
       "    }\n",
       "</style>\n",
       "<table border=\"1\" class=\"dataframe\">\n",
       "  <thead>\n",
       "    <tr style=\"text-align: right;\">\n",
       "      <th></th>\n",
       "      <th>combined_shot_type</th>\n",
       "      <th>loc_x</th>\n",
       "      <th>loc_y</th>\n",
       "      <th>minutes_remaining</th>\n",
       "      <th>period</th>\n",
       "      <th>playoffs</th>\n",
       "      <th>season</th>\n",
       "      <th>seconds_remaining</th>\n",
       "      <th>shot_distance</th>\n",
       "      <th>shot_made_flag</th>\n",
       "      <th>shot_type</th>\n",
       "      <th>shot_zone_area</th>\n",
       "      <th>shot_zone_basic</th>\n",
       "      <th>shot_zone_range</th>\n",
       "      <th>game_date</th>\n",
       "      <th>matchup</th>\n",
       "      <th>opponent</th>\n",
       "    </tr>\n",
       "    <tr>\n",
       "      <th>shot_id</th>\n",
       "      <th></th>\n",
       "      <th></th>\n",
       "      <th></th>\n",
       "      <th></th>\n",
       "      <th></th>\n",
       "      <th></th>\n",
       "      <th></th>\n",
       "      <th></th>\n",
       "      <th></th>\n",
       "      <th></th>\n",
       "      <th></th>\n",
       "      <th></th>\n",
       "      <th></th>\n",
       "      <th></th>\n",
       "      <th></th>\n",
       "      <th></th>\n",
       "      <th></th>\n",
       "    </tr>\n",
       "  </thead>\n",
       "  <tbody>\n",
       "    <tr>\n",
       "      <td>1</td>\n",
       "      <td>Jump Shot</td>\n",
       "      <td>167</td>\n",
       "      <td>72</td>\n",
       "      <td>10</td>\n",
       "      <td>1</td>\n",
       "      <td>0</td>\n",
       "      <td>2000-01</td>\n",
       "      <td>27</td>\n",
       "      <td>18</td>\n",
       "      <td>NaN</td>\n",
       "      <td>2PT Field Goal</td>\n",
       "      <td>Right Side(R)</td>\n",
       "      <td>Mid-Range</td>\n",
       "      <td>16-24 ft.</td>\n",
       "      <td>2000-10-31</td>\n",
       "      <td>LAL @ POR</td>\n",
       "      <td>POR</td>\n",
       "    </tr>\n",
       "  </tbody>\n",
       "</table>\n",
       "</div>"
      ],
      "text/plain": [
       "        combined_shot_type  loc_x  loc_y  minutes_remaining period playoffs  \\\n",
       "shot_id                                                                       \n",
       "1                Jump Shot    167     72                 10      1        0   \n",
       "\n",
       "          season  seconds_remaining  shot_distance  shot_made_flag  \\\n",
       "shot_id                                                              \n",
       "1        2000-01                 27             18             NaN   \n",
       "\n",
       "              shot_type shot_zone_area shot_zone_basic shot_zone_range  \\\n",
       "shot_id                                                                  \n",
       "1        2PT Field Goal  Right Side(R)       Mid-Range       16-24 ft.   \n",
       "\n",
       "         game_date    matchup opponent  \n",
       "shot_id                                 \n",
       "1       2000-10-31  LAL @ POR      POR  "
      ]
     },
     "execution_count": 15,
     "metadata": {},
     "output_type": "execute_result"
    }
   ],
   "source": [
    "df.drop('action_type', axis=1, inplace=True)\n",
    "df.head(1)"
   ]
  },
  {
   "cell_type": "markdown",
   "metadata": {},
   "source": [
    "# 3. Data Transformation\n",
    "\n",
    "<a id='data_transformation'></a>"
   ]
  },
  {
   "cell_type": "markdown",
   "metadata": {},
   "source": [
    "## 3.1. Opponents\n",
    "\n",
    "<a id='opponent'></a>"
   ]
  },
  {
   "cell_type": "markdown",
   "metadata": {},
   "source": [
    "Se supone que los datos contenidos en la columna 'matchup' hacen referencia a los partidos que se disputaron entre Los Angeles Lakers y sus contrincantes. Esta columna nos denotaria únicamente cual es los dos equipos era local, ya que el oponente viene especificado nuevamente en la columna 'opponent'. De tal forma que los equipos contrarios deben ser los mismos en una columna y en otra. Veamos que pasa:"
   ]
  },
  {
   "cell_type": "code",
   "execution_count": 16,
   "metadata": {},
   "outputs": [
    {
     "name": "stdout",
     "output_type": "stream",
     "text": [
      "Number of teams by matches column: 38\n",
      "Number of teams by opponent column: 33\n",
      "\n",
      "There are 5 teams incongruous:\n",
      "['PHO', 'NOK', 'UTH', 'CHH', 'SAN']\n"
     ]
    }
   ],
   "source": [
    "matchups = list(set(df.matchup.str[-3:]))\n",
    "print(\"Number of teams by matches column:\", len(matchups))\n",
    "opponent = list(set(df.opponent))\n",
    "print(\"Number of teams by opponent column:\", len(opponent))\n",
    "\n",
    "main_list = list(set(matchups).difference(opponent))\n",
    "print(\"\\nThere are\", len(main_list), \"teams incongruous:\")\n",
    "print(main_list)"
   ]
  },
  {
   "cell_type": "markdown",
   "metadata": {},
   "source": [
    "Como vemos, existe una inconsistencia entre el número de equipos encontrados en una columna y en otra. Para avergiguar cual es la mejor solución, recurriremos a la web oficial de la NBA y comprobaremos cuales son las siglas reales para los equipos que participan en dicha competición."
   ]
  },
  {
   "cell_type": "code",
   "execution_count": 17,
   "metadata": {},
   "outputs": [
    {
     "data": {
      "text/html": [
       "<div>\n",
       "<style scoped>\n",
       "    .dataframe tbody tr th:only-of-type {\n",
       "        vertical-align: middle;\n",
       "    }\n",
       "\n",
       "    .dataframe tbody tr th {\n",
       "        vertical-align: top;\n",
       "    }\n",
       "\n",
       "    .dataframe thead th {\n",
       "        text-align: right;\n",
       "    }\n",
       "</style>\n",
       "<table border=\"1\" class=\"dataframe\">\n",
       "  <thead>\n",
       "    <tr style=\"text-align: right;\">\n",
       "      <th></th>\n",
       "      <th>combined_shot_type</th>\n",
       "      <th>loc_x</th>\n",
       "      <th>loc_y</th>\n",
       "      <th>minutes_remaining</th>\n",
       "      <th>period</th>\n",
       "      <th>playoffs</th>\n",
       "      <th>season</th>\n",
       "      <th>seconds_remaining</th>\n",
       "      <th>shot_distance</th>\n",
       "      <th>shot_made_flag</th>\n",
       "      <th>shot_type</th>\n",
       "      <th>shot_zone_area</th>\n",
       "      <th>shot_zone_basic</th>\n",
       "      <th>shot_zone_range</th>\n",
       "      <th>game_date</th>\n",
       "      <th>matchup</th>\n",
       "      <th>opponent</th>\n",
       "    </tr>\n",
       "    <tr>\n",
       "      <th>shot_id</th>\n",
       "      <th></th>\n",
       "      <th></th>\n",
       "      <th></th>\n",
       "      <th></th>\n",
       "      <th></th>\n",
       "      <th></th>\n",
       "      <th></th>\n",
       "      <th></th>\n",
       "      <th></th>\n",
       "      <th></th>\n",
       "      <th></th>\n",
       "      <th></th>\n",
       "      <th></th>\n",
       "      <th></th>\n",
       "      <th></th>\n",
       "      <th></th>\n",
       "      <th></th>\n",
       "    </tr>\n",
       "  </thead>\n",
       "  <tbody>\n",
       "    <tr>\n",
       "      <td>6245</td>\n",
       "      <td>Jump Shot</td>\n",
       "      <td>-136</td>\n",
       "      <td>61</td>\n",
       "      <td>6</td>\n",
       "      <td>1</td>\n",
       "      <td>0</td>\n",
       "      <td>2004-05</td>\n",
       "      <td>0</td>\n",
       "      <td>14</td>\n",
       "      <td>1.0</td>\n",
       "      <td>2PT Field Goal</td>\n",
       "      <td>Left Side(L)</td>\n",
       "      <td>Mid-Range</td>\n",
       "      <td>8-16 ft.</td>\n",
       "      <td>2004-11-05</td>\n",
       "      <td>LAL vs. SAN</td>\n",
       "      <td>SAS</td>\n",
       "    </tr>\n",
       "    <tr>\n",
       "      <td>6246</td>\n",
       "      <td>Jump Shot</td>\n",
       "      <td>-133</td>\n",
       "      <td>0</td>\n",
       "      <td>4</td>\n",
       "      <td>1</td>\n",
       "      <td>0</td>\n",
       "      <td>2004-05</td>\n",
       "      <td>31</td>\n",
       "      <td>13</td>\n",
       "      <td>0.0</td>\n",
       "      <td>2PT Field Goal</td>\n",
       "      <td>Left Side(L)</td>\n",
       "      <td>Mid-Range</td>\n",
       "      <td>8-16 ft.</td>\n",
       "      <td>2004-11-05</td>\n",
       "      <td>LAL vs. SAN</td>\n",
       "      <td>SAS</td>\n",
       "    </tr>\n",
       "  </tbody>\n",
       "</table>\n",
       "</div>"
      ],
      "text/plain": [
       "        combined_shot_type  loc_x  loc_y  minutes_remaining period playoffs  \\\n",
       "shot_id                                                                       \n",
       "6245             Jump Shot   -136     61                  6      1        0   \n",
       "6246             Jump Shot   -133      0                  4      1        0   \n",
       "\n",
       "          season  seconds_remaining  shot_distance  shot_made_flag  \\\n",
       "shot_id                                                              \n",
       "6245     2004-05                  0             14             1.0   \n",
       "6246     2004-05                 31             13             0.0   \n",
       "\n",
       "              shot_type shot_zone_area shot_zone_basic shot_zone_range  \\\n",
       "shot_id                                                                  \n",
       "6245     2PT Field Goal   Left Side(L)       Mid-Range        8-16 ft.   \n",
       "6246     2PT Field Goal   Left Side(L)       Mid-Range        8-16 ft.   \n",
       "\n",
       "         game_date      matchup opponent  \n",
       "shot_id                                   \n",
       "6245    2004-11-05  LAL vs. SAN      SAS  \n",
       "6246    2004-11-05  LAL vs. SAN      SAS  "
      ]
     },
     "execution_count": 17,
     "metadata": {},
     "output_type": "execute_result"
    }
   ],
   "source": [
    "df[df[\"matchup\"].str.endswith(main_list[0])].head(2) # PHO == PHX --> Phoenix Suns\n",
    "df[df[\"matchup\"].str.endswith(main_list[1])].head(2) # SAN == SAS --> San Antonio Spurs\n",
    "df[df[\"matchup\"].str.endswith(main_list[2])].head(2) # CHH == CHA --> Charlotte Horets\n",
    "df[df[\"matchup\"].str.endswith(main_list[3])].head(2) # UTH == UTA --> Utah Jazz\n",
    "df[df[\"matchup\"].str.endswith(main_list[4])].head(2) # NOK == NOP --> New Orleans Pelicans https://stats.nba.com/game/0020500903/scoring/"
   ]
  },
  {
   "cell_type": "markdown",
   "metadata": {},
   "source": [
    "Se ha comprobado manualmente que la columna 'matchup' posee errores en las siglas usadas par denotar a los equipos, por lo que para saber con que equipo se enfrentaban los LAL, usaremos la columna 'opponent' y descartaremos 'matchup'. Sin embargo, antes de eliminarla vamos a crear una nueva columna a partir de ella en la que indiquemos con 1 LAL jugaba como local y con 0 si jugaba como visitante. Si vamos a esa columna, vemos que existen dos formatos para expresar el enfrentamiento, el simbolo '@' y el 'vs.'. Tras una serie de comprobaciones tales como: buscar en google 2006-03-26 Lakers vs. new orleans pelicans y ver que LAL jugaron en casa a la vez que en los datos se denoto con vs. Asimismo se ha comprobado con el encuentro 2000-10-31 lakers vs partland, donde LAL jugó como visitante y en nuestros datos aparece con un @. Finalmente la logica será, si aparece '@' en dicha columna, asigno un 0, si aparece un 'vs.', asigno un 1."
   ]
  },
  {
   "cell_type": "code",
   "execution_count": 18,
   "metadata": {},
   "outputs": [],
   "source": [
    "df[\"home\"] = pd.np.where(df.matchup.str.contains(\"@\"), 0, 1)\n",
    "df[\"home\"] = df[\"home\"].astype('category')\n",
    "df.drop('matchup', axis=1, inplace=True)"
   ]
  },
  {
   "cell_type": "markdown",
   "metadata": {},
   "source": [
    "## 3.2. Time\n",
    "\n",
    "<a id='time'></a>"
   ]
  },
  {
   "cell_type": "markdown",
   "metadata": {},
   "source": [
    "Otra de las variables que parecen estar muy relacionadas entre si son 'minutes_remaining' y 'seconds_remaining'. en lugar de tener ambas por separado, al deberse cada una de ellas a espacios temporales relacionados, podemos tratar de aunarlas en una sola. Por ejemplo de la siguiente forma: "
   ]
  },
  {
   "cell_type": "code",
   "execution_count": 19,
   "metadata": {},
   "outputs": [],
   "source": [
    "df['remain_time'] = 60*df['seconds_remaining'] + df['minutes_remaining']\n",
    "df.drop('minutes_remaining', axis=1, inplace=True)\n",
    "df.drop('seconds_remaining', axis=1, inplace=True)"
   ]
  },
  {
   "cell_type": "code",
   "execution_count": 20,
   "metadata": {},
   "outputs": [
    {
     "data": {
      "text/html": [
       "<div>\n",
       "<style scoped>\n",
       "    .dataframe tbody tr th:only-of-type {\n",
       "        vertical-align: middle;\n",
       "    }\n",
       "\n",
       "    .dataframe tbody tr th {\n",
       "        vertical-align: top;\n",
       "    }\n",
       "\n",
       "    .dataframe thead th {\n",
       "        text-align: right;\n",
       "    }\n",
       "</style>\n",
       "<table border=\"1\" class=\"dataframe\">\n",
       "  <thead>\n",
       "    <tr style=\"text-align: right;\">\n",
       "      <th></th>\n",
       "      <th>combined_shot_type</th>\n",
       "      <th>loc_x</th>\n",
       "      <th>loc_y</th>\n",
       "      <th>period</th>\n",
       "      <th>playoffs</th>\n",
       "      <th>season</th>\n",
       "      <th>shot_distance</th>\n",
       "      <th>shot_made_flag</th>\n",
       "      <th>shot_type</th>\n",
       "      <th>shot_zone_area</th>\n",
       "      <th>shot_zone_basic</th>\n",
       "      <th>shot_zone_range</th>\n",
       "      <th>game_date</th>\n",
       "      <th>opponent</th>\n",
       "      <th>home</th>\n",
       "      <th>remain_time</th>\n",
       "    </tr>\n",
       "    <tr>\n",
       "      <th>shot_id</th>\n",
       "      <th></th>\n",
       "      <th></th>\n",
       "      <th></th>\n",
       "      <th></th>\n",
       "      <th></th>\n",
       "      <th></th>\n",
       "      <th></th>\n",
       "      <th></th>\n",
       "      <th></th>\n",
       "      <th></th>\n",
       "      <th></th>\n",
       "      <th></th>\n",
       "      <th></th>\n",
       "      <th></th>\n",
       "      <th></th>\n",
       "      <th></th>\n",
       "    </tr>\n",
       "  </thead>\n",
       "  <tbody>\n",
       "    <tr>\n",
       "      <td>1</td>\n",
       "      <td>Jump Shot</td>\n",
       "      <td>167</td>\n",
       "      <td>72</td>\n",
       "      <td>1</td>\n",
       "      <td>0</td>\n",
       "      <td>2000-01</td>\n",
       "      <td>18</td>\n",
       "      <td>NaN</td>\n",
       "      <td>2PT Field Goal</td>\n",
       "      <td>Right Side(R)</td>\n",
       "      <td>Mid-Range</td>\n",
       "      <td>16-24 ft.</td>\n",
       "      <td>2000-10-31</td>\n",
       "      <td>POR</td>\n",
       "      <td>0</td>\n",
       "      <td>1630</td>\n",
       "    </tr>\n",
       "    <tr>\n",
       "      <td>2</td>\n",
       "      <td>Jump Shot</td>\n",
       "      <td>-157</td>\n",
       "      <td>0</td>\n",
       "      <td>1</td>\n",
       "      <td>0</td>\n",
       "      <td>2000-01</td>\n",
       "      <td>15</td>\n",
       "      <td>0.0</td>\n",
       "      <td>2PT Field Goal</td>\n",
       "      <td>Left Side(L)</td>\n",
       "      <td>Mid-Range</td>\n",
       "      <td>8-16 ft.</td>\n",
       "      <td>2000-10-31</td>\n",
       "      <td>POR</td>\n",
       "      <td>0</td>\n",
       "      <td>1330</td>\n",
       "    </tr>\n",
       "    <tr>\n",
       "      <td>3</td>\n",
       "      <td>Jump Shot</td>\n",
       "      <td>-101</td>\n",
       "      <td>135</td>\n",
       "      <td>1</td>\n",
       "      <td>0</td>\n",
       "      <td>2000-01</td>\n",
       "      <td>16</td>\n",
       "      <td>1.0</td>\n",
       "      <td>2PT Field Goal</td>\n",
       "      <td>Left Side Center(LC)</td>\n",
       "      <td>Mid-Range</td>\n",
       "      <td>16-24 ft.</td>\n",
       "      <td>2000-10-31</td>\n",
       "      <td>POR</td>\n",
       "      <td>0</td>\n",
       "      <td>2707</td>\n",
       "    </tr>\n",
       "    <tr>\n",
       "      <td>4</td>\n",
       "      <td>Jump Shot</td>\n",
       "      <td>138</td>\n",
       "      <td>175</td>\n",
       "      <td>1</td>\n",
       "      <td>0</td>\n",
       "      <td>2000-01</td>\n",
       "      <td>22</td>\n",
       "      <td>0.0</td>\n",
       "      <td>2PT Field Goal</td>\n",
       "      <td>Right Side Center(RC)</td>\n",
       "      <td>Mid-Range</td>\n",
       "      <td>16-24 ft.</td>\n",
       "      <td>2000-10-31</td>\n",
       "      <td>POR</td>\n",
       "      <td>0</td>\n",
       "      <td>3126</td>\n",
       "    </tr>\n",
       "    <tr>\n",
       "      <td>5</td>\n",
       "      <td>Dunk</td>\n",
       "      <td>0</td>\n",
       "      <td>0</td>\n",
       "      <td>2</td>\n",
       "      <td>0</td>\n",
       "      <td>2000-01</td>\n",
       "      <td>0</td>\n",
       "      <td>1.0</td>\n",
       "      <td>2PT Field Goal</td>\n",
       "      <td>Center(C)</td>\n",
       "      <td>Restricted Area</td>\n",
       "      <td>Less Than 8 ft.</td>\n",
       "      <td>2000-10-31</td>\n",
       "      <td>POR</td>\n",
       "      <td>0</td>\n",
       "      <td>1146</td>\n",
       "    </tr>\n",
       "  </tbody>\n",
       "</table>\n",
       "</div>"
      ],
      "text/plain": [
       "        combined_shot_type  loc_x  loc_y period playoffs   season  \\\n",
       "shot_id                                                             \n",
       "1                Jump Shot    167     72      1        0  2000-01   \n",
       "2                Jump Shot   -157      0      1        0  2000-01   \n",
       "3                Jump Shot   -101    135      1        0  2000-01   \n",
       "4                Jump Shot    138    175      1        0  2000-01   \n",
       "5                     Dunk      0      0      2        0  2000-01   \n",
       "\n",
       "         shot_distance  shot_made_flag       shot_type         shot_zone_area  \\\n",
       "shot_id                                                                         \n",
       "1                   18             NaN  2PT Field Goal          Right Side(R)   \n",
       "2                   15             0.0  2PT Field Goal           Left Side(L)   \n",
       "3                   16             1.0  2PT Field Goal   Left Side Center(LC)   \n",
       "4                   22             0.0  2PT Field Goal  Right Side Center(RC)   \n",
       "5                    0             1.0  2PT Field Goal              Center(C)   \n",
       "\n",
       "         shot_zone_basic  shot_zone_range  game_date opponent home  \\\n",
       "shot_id                                                              \n",
       "1              Mid-Range        16-24 ft. 2000-10-31      POR    0   \n",
       "2              Mid-Range         8-16 ft. 2000-10-31      POR    0   \n",
       "3              Mid-Range        16-24 ft. 2000-10-31      POR    0   \n",
       "4              Mid-Range        16-24 ft. 2000-10-31      POR    0   \n",
       "5        Restricted Area  Less Than 8 ft. 2000-10-31      POR    0   \n",
       "\n",
       "         remain_time  \n",
       "shot_id               \n",
       "1               1630  \n",
       "2               1330  \n",
       "3               2707  \n",
       "4               3126  \n",
       "5               1146  "
      ]
     },
     "execution_count": 20,
     "metadata": {},
     "output_type": "execute_result"
    }
   ],
   "source": [
    "df.head()"
   ]
  },
  {
   "cell_type": "markdown",
   "metadata": {},
   "source": [
    "## 3.3. Game date\n",
    "\n",
    "<a id='date'></a>"
   ]
  },
  {
   "cell_type": "code",
   "execution_count": 21,
   "metadata": {},
   "outputs": [],
   "source": [
    "df['year'] = df.game_date.dt.year\n",
    "df['month'] = df.game_date.dt.month\n",
    "df['day'] = df.game_date.dt.day"
   ]
  },
  {
   "cell_type": "code",
   "execution_count": 22,
   "metadata": {},
   "outputs": [],
   "source": [
    "df.drop('game_date', axis=1, inplace=True)"
   ]
  },
  {
   "cell_type": "code",
   "execution_count": 23,
   "metadata": {},
   "outputs": [
    {
     "data": {
      "text/html": [
       "<div>\n",
       "<style scoped>\n",
       "    .dataframe tbody tr th:only-of-type {\n",
       "        vertical-align: middle;\n",
       "    }\n",
       "\n",
       "    .dataframe tbody tr th {\n",
       "        vertical-align: top;\n",
       "    }\n",
       "\n",
       "    .dataframe thead th {\n",
       "        text-align: right;\n",
       "    }\n",
       "</style>\n",
       "<table border=\"1\" class=\"dataframe\">\n",
       "  <thead>\n",
       "    <tr style=\"text-align: right;\">\n",
       "      <th></th>\n",
       "      <th>combined_shot_type</th>\n",
       "      <th>loc_x</th>\n",
       "      <th>loc_y</th>\n",
       "      <th>period</th>\n",
       "      <th>playoffs</th>\n",
       "      <th>season</th>\n",
       "      <th>shot_distance</th>\n",
       "      <th>shot_made_flag</th>\n",
       "      <th>shot_type</th>\n",
       "      <th>shot_zone_area</th>\n",
       "      <th>shot_zone_basic</th>\n",
       "      <th>shot_zone_range</th>\n",
       "      <th>opponent</th>\n",
       "      <th>home</th>\n",
       "      <th>remain_time</th>\n",
       "      <th>year</th>\n",
       "      <th>month</th>\n",
       "      <th>day</th>\n",
       "    </tr>\n",
       "    <tr>\n",
       "      <th>shot_id</th>\n",
       "      <th></th>\n",
       "      <th></th>\n",
       "      <th></th>\n",
       "      <th></th>\n",
       "      <th></th>\n",
       "      <th></th>\n",
       "      <th></th>\n",
       "      <th></th>\n",
       "      <th></th>\n",
       "      <th></th>\n",
       "      <th></th>\n",
       "      <th></th>\n",
       "      <th></th>\n",
       "      <th></th>\n",
       "      <th></th>\n",
       "      <th></th>\n",
       "      <th></th>\n",
       "      <th></th>\n",
       "    </tr>\n",
       "  </thead>\n",
       "  <tbody>\n",
       "    <tr>\n",
       "      <td>1</td>\n",
       "      <td>Jump Shot</td>\n",
       "      <td>167</td>\n",
       "      <td>72</td>\n",
       "      <td>1</td>\n",
       "      <td>0</td>\n",
       "      <td>2000-01</td>\n",
       "      <td>18</td>\n",
       "      <td>NaN</td>\n",
       "      <td>2PT Field Goal</td>\n",
       "      <td>Right Side(R)</td>\n",
       "      <td>Mid-Range</td>\n",
       "      <td>16-24 ft.</td>\n",
       "      <td>POR</td>\n",
       "      <td>0</td>\n",
       "      <td>1630</td>\n",
       "      <td>2000</td>\n",
       "      <td>10</td>\n",
       "      <td>31</td>\n",
       "    </tr>\n",
       "    <tr>\n",
       "      <td>2</td>\n",
       "      <td>Jump Shot</td>\n",
       "      <td>-157</td>\n",
       "      <td>0</td>\n",
       "      <td>1</td>\n",
       "      <td>0</td>\n",
       "      <td>2000-01</td>\n",
       "      <td>15</td>\n",
       "      <td>0.0</td>\n",
       "      <td>2PT Field Goal</td>\n",
       "      <td>Left Side(L)</td>\n",
       "      <td>Mid-Range</td>\n",
       "      <td>8-16 ft.</td>\n",
       "      <td>POR</td>\n",
       "      <td>0</td>\n",
       "      <td>1330</td>\n",
       "      <td>2000</td>\n",
       "      <td>10</td>\n",
       "      <td>31</td>\n",
       "    </tr>\n",
       "    <tr>\n",
       "      <td>3</td>\n",
       "      <td>Jump Shot</td>\n",
       "      <td>-101</td>\n",
       "      <td>135</td>\n",
       "      <td>1</td>\n",
       "      <td>0</td>\n",
       "      <td>2000-01</td>\n",
       "      <td>16</td>\n",
       "      <td>1.0</td>\n",
       "      <td>2PT Field Goal</td>\n",
       "      <td>Left Side Center(LC)</td>\n",
       "      <td>Mid-Range</td>\n",
       "      <td>16-24 ft.</td>\n",
       "      <td>POR</td>\n",
       "      <td>0</td>\n",
       "      <td>2707</td>\n",
       "      <td>2000</td>\n",
       "      <td>10</td>\n",
       "      <td>31</td>\n",
       "    </tr>\n",
       "    <tr>\n",
       "      <td>4</td>\n",
       "      <td>Jump Shot</td>\n",
       "      <td>138</td>\n",
       "      <td>175</td>\n",
       "      <td>1</td>\n",
       "      <td>0</td>\n",
       "      <td>2000-01</td>\n",
       "      <td>22</td>\n",
       "      <td>0.0</td>\n",
       "      <td>2PT Field Goal</td>\n",
       "      <td>Right Side Center(RC)</td>\n",
       "      <td>Mid-Range</td>\n",
       "      <td>16-24 ft.</td>\n",
       "      <td>POR</td>\n",
       "      <td>0</td>\n",
       "      <td>3126</td>\n",
       "      <td>2000</td>\n",
       "      <td>10</td>\n",
       "      <td>31</td>\n",
       "    </tr>\n",
       "    <tr>\n",
       "      <td>5</td>\n",
       "      <td>Dunk</td>\n",
       "      <td>0</td>\n",
       "      <td>0</td>\n",
       "      <td>2</td>\n",
       "      <td>0</td>\n",
       "      <td>2000-01</td>\n",
       "      <td>0</td>\n",
       "      <td>1.0</td>\n",
       "      <td>2PT Field Goal</td>\n",
       "      <td>Center(C)</td>\n",
       "      <td>Restricted Area</td>\n",
       "      <td>Less Than 8 ft.</td>\n",
       "      <td>POR</td>\n",
       "      <td>0</td>\n",
       "      <td>1146</td>\n",
       "      <td>2000</td>\n",
       "      <td>10</td>\n",
       "      <td>31</td>\n",
       "    </tr>\n",
       "  </tbody>\n",
       "</table>\n",
       "</div>"
      ],
      "text/plain": [
       "        combined_shot_type  loc_x  loc_y period playoffs   season  \\\n",
       "shot_id                                                             \n",
       "1                Jump Shot    167     72      1        0  2000-01   \n",
       "2                Jump Shot   -157      0      1        0  2000-01   \n",
       "3                Jump Shot   -101    135      1        0  2000-01   \n",
       "4                Jump Shot    138    175      1        0  2000-01   \n",
       "5                     Dunk      0      0      2        0  2000-01   \n",
       "\n",
       "         shot_distance  shot_made_flag       shot_type         shot_zone_area  \\\n",
       "shot_id                                                                         \n",
       "1                   18             NaN  2PT Field Goal          Right Side(R)   \n",
       "2                   15             0.0  2PT Field Goal           Left Side(L)   \n",
       "3                   16             1.0  2PT Field Goal   Left Side Center(LC)   \n",
       "4                   22             0.0  2PT Field Goal  Right Side Center(RC)   \n",
       "5                    0             1.0  2PT Field Goal              Center(C)   \n",
       "\n",
       "         shot_zone_basic  shot_zone_range opponent home  remain_time  year  \\\n",
       "shot_id                                                                      \n",
       "1              Mid-Range        16-24 ft.      POR    0         1630  2000   \n",
       "2              Mid-Range         8-16 ft.      POR    0         1330  2000   \n",
       "3              Mid-Range        16-24 ft.      POR    0         2707  2000   \n",
       "4              Mid-Range        16-24 ft.      POR    0         3126  2000   \n",
       "5        Restricted Area  Less Than 8 ft.      POR    0         1146  2000   \n",
       "\n",
       "         month  day  \n",
       "shot_id              \n",
       "1           10   31  \n",
       "2           10   31  \n",
       "3           10   31  \n",
       "4           10   31  \n",
       "5           10   31  "
      ]
     },
     "execution_count": 23,
     "metadata": {},
     "output_type": "execute_result"
    }
   ],
   "source": [
    "df.head(5)"
   ]
  },
  {
   "cell_type": "markdown",
   "metadata": {},
   "source": [
    "## 3.4. One hot encoding\n",
    "\n",
    "<a id='hot_encoding'></a>"
   ]
  },
  {
   "cell_type": "markdown",
   "metadata": {},
   "source": [
    "Un paso fundamental que debemos realizar es el realizar un 'encoding' sobre las variables categoricas. La mayoria de algoritmos trabajan mejor con variables numéricas. La idea de esta técnica se basa en, dada una variable predictora que puede tomar n valores distintos, generaremos a partir de ella un vector de n dimensiones, cada una de ellas correspondiente a los posibles valores. De forma que si para una instancia, esta variable predictora tomaba un valor \"X\", entonces el vector estará completamente relleno de ceros, excepto en la posicion de la columna \"X\"."
   ]
  },
  {
   "cell_type": "code",
   "execution_count": 24,
   "metadata": {},
   "outputs": [],
   "source": [
    "categorial_cols = df.select_dtypes(include='category').columns\n",
    "\n",
    "for cc in categorial_cols:\n",
    "    dummies = pd.get_dummies(df[cc])\n",
    "    dummies = dummies.add_prefix(\"{}#\".format(cc))\n",
    "    df.drop(cc, axis=1, inplace=True)\n",
    "    df = df.join(dummies)\n"
   ]
  },
  {
   "cell_type": "markdown",
   "metadata": {},
   "source": [
    "El resultado obtenido, debe ser un dataframe que solo contenga variables predictoras numéricas."
   ]
  },
  {
   "cell_type": "code",
   "execution_count": 25,
   "metadata": {},
   "outputs": [
    {
     "data": {
      "text/html": [
       "<div>\n",
       "<style scoped>\n",
       "    .dataframe tbody tr th:only-of-type {\n",
       "        vertical-align: middle;\n",
       "    }\n",
       "\n",
       "    .dataframe tbody tr th {\n",
       "        vertical-align: top;\n",
       "    }\n",
       "\n",
       "    .dataframe thead th {\n",
       "        text-align: right;\n",
       "    }\n",
       "</style>\n",
       "<table border=\"1\" class=\"dataframe\">\n",
       "  <thead>\n",
       "    <tr style=\"text-align: right;\">\n",
       "      <th></th>\n",
       "      <th>loc_x</th>\n",
       "      <th>loc_y</th>\n",
       "      <th>shot_distance</th>\n",
       "      <th>shot_made_flag</th>\n",
       "      <th>remain_time</th>\n",
       "      <th>year</th>\n",
       "      <th>month</th>\n",
       "      <th>day</th>\n",
       "      <th>combined_shot_type#Bank Shot</th>\n",
       "      <th>combined_shot_type#Dunk</th>\n",
       "      <th>...</th>\n",
       "      <th>opponent#POR</th>\n",
       "      <th>opponent#SAC</th>\n",
       "      <th>opponent#SAS</th>\n",
       "      <th>opponent#SEA</th>\n",
       "      <th>opponent#TOR</th>\n",
       "      <th>opponent#UTA</th>\n",
       "      <th>opponent#VAN</th>\n",
       "      <th>opponent#WAS</th>\n",
       "      <th>home#0</th>\n",
       "      <th>home#1</th>\n",
       "    </tr>\n",
       "    <tr>\n",
       "      <th>shot_id</th>\n",
       "      <th></th>\n",
       "      <th></th>\n",
       "      <th></th>\n",
       "      <th></th>\n",
       "      <th></th>\n",
       "      <th></th>\n",
       "      <th></th>\n",
       "      <th></th>\n",
       "      <th></th>\n",
       "      <th></th>\n",
       "      <th></th>\n",
       "      <th></th>\n",
       "      <th></th>\n",
       "      <th></th>\n",
       "      <th></th>\n",
       "      <th></th>\n",
       "      <th></th>\n",
       "      <th></th>\n",
       "      <th></th>\n",
       "      <th></th>\n",
       "      <th></th>\n",
       "    </tr>\n",
       "  </thead>\n",
       "  <tbody>\n",
       "    <tr>\n",
       "      <td>1</td>\n",
       "      <td>167</td>\n",
       "      <td>72</td>\n",
       "      <td>18</td>\n",
       "      <td>NaN</td>\n",
       "      <td>1630</td>\n",
       "      <td>2000</td>\n",
       "      <td>10</td>\n",
       "      <td>31</td>\n",
       "      <td>0</td>\n",
       "      <td>0</td>\n",
       "      <td>...</td>\n",
       "      <td>1</td>\n",
       "      <td>0</td>\n",
       "      <td>0</td>\n",
       "      <td>0</td>\n",
       "      <td>0</td>\n",
       "      <td>0</td>\n",
       "      <td>0</td>\n",
       "      <td>0</td>\n",
       "      <td>1</td>\n",
       "      <td>0</td>\n",
       "    </tr>\n",
       "  </tbody>\n",
       "</table>\n",
       "<p>1 rows × 98 columns</p>\n",
       "</div>"
      ],
      "text/plain": [
       "         loc_x  loc_y  shot_distance  shot_made_flag  remain_time  year  \\\n",
       "shot_id                                                                   \n",
       "1          167     72             18             NaN         1630  2000   \n",
       "\n",
       "         month  day  combined_shot_type#Bank Shot  combined_shot_type#Dunk  \\\n",
       "shot_id                                                                      \n",
       "1           10   31                             0                        0   \n",
       "\n",
       "         ...  opponent#POR  opponent#SAC  opponent#SAS  opponent#SEA  \\\n",
       "shot_id  ...                                                           \n",
       "1        ...             1             0             0             0   \n",
       "\n",
       "         opponent#TOR  opponent#UTA  opponent#VAN  opponent#WAS  home#0  \\\n",
       "shot_id                                                                   \n",
       "1                   0             0             0             0       1   \n",
       "\n",
       "         home#1  \n",
       "shot_id          \n",
       "1             0  \n",
       "\n",
       "[1 rows x 98 columns]"
      ]
     },
     "execution_count": 25,
     "metadata": {},
     "output_type": "execute_result"
    }
   ],
   "source": [
    "df.head(1)"
   ]
  },
  {
   "cell_type": "markdown",
   "metadata": {},
   "source": [
    "# 4. Data Mining"
   ]
  },
  {
   "cell_type": "markdown",
   "metadata": {},
   "source": [
    "En primer lugar vamos a dividir todo el conjunto de datos en dos. Por un lado, los datos que nos servirán para realizar el aprendizaje supervisado, es decir, aquellos registros para los cuales tenemos el valor de la variable objetivo. Por otro, los registros a los que aplicaremos nuestro modelo predictivo y enviaremos a Kaggle."
   ]
  },
  {
   "cell_type": "markdown",
   "metadata": {},
   "source": [
    "## 4.1. Splitting data\n",
    "\n",
    "<a id='splitting'></a>"
   ]
  },
  {
   "cell_type": "code",
   "execution_count": 26,
   "metadata": {},
   "outputs": [
    {
     "name": "stdout",
     "output_type": "stream",
     "text": [
      "Split dataframe into data-submit: Data: 25697 ; Submit: 5000\n",
      "\n",
      "Percentage for every class:\n",
      " 0.0    0.553839\n",
      "1.0    0.446161\n",
      "Name: shot_made_flag, dtype: float64\n"
     ]
    }
   ],
   "source": [
    "# Splitting data into train-test\n",
    "data = df[~df.shot_made_flag.isna()]\n",
    "submit = df[df.shot_made_flag.isna()]\n",
    "\n",
    "print(\"Split dataframe into data-submit: Data:\", len(data), \"; Submit:\", len(submit))\n",
    "print(\"\\nPercentage for every class:\\n\", data.shot_made_flag.value_counts()/len(data))"
   ]
  },
  {
   "cell_type": "markdown",
   "metadata": {},
   "source": [
    "Vemos como de balanceada esta la clase a predecir:"
   ]
  },
  {
   "cell_type": "code",
   "execution_count": 27,
   "metadata": {},
   "outputs": [
    {
     "data": {
      "image/png": "[encoded data removed]",
      "text/plain": [
       "<Figure size 640x400 with 1 Axes>"
      ]
     },
     "metadata": {},
     "output_type": "display_data"
    }
   ],
   "source": [
    "plt.figure(figsize=(8, 5), dpi=80, facecolor='w', edgecolor='k')\n",
    "ax = plt.axes()\n",
    "sns.countplot(x='shot_made_flag', data=data, ax=ax);\n",
    "ax.set_title('Target class distribution')\n",
    "plt.show()"
   ]
  },
  {
   "cell_type": "markdown",
   "metadata": {},
   "source": [
    "Hemos querido realizar un print tanto del número de registros que han sido repartidos a cada conjunto, como del porcentaje de elementos de cada clase. A pesar de que hemos obtenido que un 55% de las instancias pertenecen a la clase 0 y un 45% a la clase 0, es decir, los porcentajes son bastante similares, cuando dividamos nuestro conjunto de datos en train-test, intentaremos mantener las mismas proporciones."
   ]
  },
  {
   "cell_type": "code",
   "execution_count": 28,
   "metadata": {},
   "outputs": [
    {
     "name": "stdout",
     "output_type": "stream",
     "text": [
      "Split data into train-test:\n",
      "Train: 20557 \n",
      "Test: 5140 \n",
      "\n",
      "\n",
      "Percentage for train set:\n",
      " 0.0    0.553826\n",
      "1.0    0.446174\n",
      "Name: shot_made_flag, dtype: float64 \n",
      "\n",
      "Percentage for train set:\n",
      " 0.0    0.553891\n",
      "1.0    0.446109\n",
      "Name: shot_made_flag, dtype: float64\n"
     ]
    }
   ],
   "source": [
    "X_train, X_test, y_train, y_test = train_test_split(\n",
    "    data.loc[:, data.columns != 'shot_made_flag'], data.shot_made_flag, \n",
    "    test_size=0.2, random_state=0, stratify=data.shot_made_flag)\n",
    "\n",
    "print(\"Split data into train-test:\\nTrain:\", len(X_train), \"\\nTest:\", len(X_test),\"\\n\\n\")\n",
    "\n",
    "print(\"Percentage for train set:\\n\",y_train.value_counts()/len(y_train),\"\\n\")\n",
    "print(\"Percentage for train set:\\n\",y_test.value_counts()/len(y_test))"
   ]
  },
  {
   "cell_type": "markdown",
   "metadata": {},
   "source": [
    "Como vemos, hemos dividido nuestros datos en conjunto de entrenamiento y de validacion manteniendo las proporciones de clase originales."
   ]
  },
  {
   "cell_type": "markdown",
   "metadata": {},
   "source": [
    "## 4.2. Scaler data\n",
    "\n",
    "<a id='scaler'></a>"
   ]
  },
  {
   "cell_type": "markdown",
   "metadata": {},
   "source": [
    "Implementaremos un metodo que escale los datos aplicando la diferencia entre la media y cada punto del dataset, dividiendo eso por la desviación tipica. Estaremos atentos para usar luego este mismo scaler entrenado sobre los datos del submit."
   ]
  },
  {
   "cell_type": "code",
   "execution_count": 29,
   "metadata": {},
   "outputs": [],
   "source": [
    "sc = StandardScaler()\n",
    "X_train_s = sc.fit_transform(X_train)\n",
    "X_test_s = sc.transform (X_test)"
   ]
  },
  {
   "cell_type": "code",
   "execution_count": 30,
   "metadata": {},
   "outputs": [
    {
     "data": {
      "text/plain": [
       "array([[-0.05329046,  1.79560769,  1.22672681, ..., -0.1401495 ,\n",
       "        -1.02787286,  1.02787286],\n",
       "       [-0.57072134, -0.17348929, -0.47649685, ...,  7.13523764,\n",
       "         0.97288297, -0.97288297],\n",
       "       [-0.76135377,  0.75447595,  0.37511498, ..., -0.1401495 ,\n",
       "         0.97288297, -0.97288297],\n",
       "       ...,\n",
       "       [-0.20761195,  0.61867616,  0.05576054, ..., -0.1401495 ,\n",
       "         0.97288297, -0.97288297],\n",
       "       [-0.06236819, -1.03355464, -1.43456016, ..., -0.1401495 ,\n",
       "         0.97288297, -0.97288297],\n",
       "       [ 0.1191865 ,  2.10115723,  1.43962977, ..., -0.1401495 ,\n",
       "         0.97288297, -0.97288297]])"
      ]
     },
     "execution_count": 30,
     "metadata": {},
     "output_type": "execute_result"
    }
   ],
   "source": [
    "X_test_s"
   ]
  },
  {
   "cell_type": "markdown",
   "metadata": {},
   "source": [
    "## 4.3. Features selection\n",
    "\n",
    "<a id='feat_selec'></a>"
   ]
  },
  {
   "cell_type": "markdown",
   "metadata": {},
   "source": [
    "A la hora de entrenar nuestros modelos, puede ser computacionalmente muy complejo contar con mas de 90 variables. Es cierto que nuestro dataset no contiene demasiadas instancias, pero aun así es conveniente seleccionar las variables mas importantes."
   ]
  },
  {
   "cell_type": "code",
   "execution_count": 37,
   "metadata": {},
   "outputs": [
    {
     "name": "stdout",
     "output_type": "stream",
     "text": [
      "Optimal number of features based on LDA : 17\n"
     ]
    },
    {
     "data": {
      "image/png": "[encoded data removed]",
      "text/plain": [
       "<Figure size 936x468 with 1 Axes>"
      ]
     },
     "metadata": {},
     "output_type": "display_data"
    }
   ],
   "source": [
    "# Create the RFE object and compute a cross-validated score.\n",
    "ranker = LinearDiscriminantAnalysis()\n",
    "# The \"accuracy\" scoring is proportional to the number of correct classifications\n",
    "rfecv = RFECV(estimator=ranker, step=1, cv=StratifiedKFold(2),\n",
    "              scoring='accuracy')\n",
    "rfecv.fit(X_train_s, y_train)\n",
    "\n",
    "print(\"Optimal number of features based on LDA : %d\" % rfecv.n_features_)\n",
    "\n",
    "# Plot number of features VS. cross-validation scores\n",
    "plt.figure(figsize=(13, 6.5))\n",
    "plt.xlabel(\"Number of features selected\")\n",
    "plt.ylabel(\"Cross validation score (nb of correct classifications)\")\n",
    "plt.plot(range(1, len(rfecv.grid_scores_) + 1), rfecv.grid_scores_)\n",
    "plt.show()"
   ]
  },
  {
   "cell_type": "code",
   "execution_count": 38,
   "metadata": {},
   "outputs": [
    {
     "name": "stdout",
     "output_type": "stream",
     "text": [
      "\n",
      "Number of main features by Linear Discriminant Analysis: 17\n",
      "\n"
     ]
    },
    {
     "data": {
      "text/plain": [
       "['shot_distance',\n",
       " 'remain_time',\n",
       " 'combined_shot_type#Bank Shot',\n",
       " 'combined_shot_type#Dunk',\n",
       " 'combined_shot_type#Jump Shot',\n",
       " 'combined_shot_type#Tip Shot',\n",
       " 'period#4',\n",
       " 'season#1997-98',\n",
       " 'shot_type#3PT Field Goal',\n",
       " 'shot_zone_area#Left Side(L)',\n",
       " 'shot_zone_area#Right Side(R)',\n",
       " 'shot_zone_basic#Above the Break 3',\n",
       " 'shot_zone_basic#In The Paint (Non-RA)',\n",
       " 'shot_zone_basic#Restricted Area',\n",
       " 'shot_zone_range#Back Court Shot',\n",
       " 'shot_zone_range#Less Than 8 ft.',\n",
       " 'opponent#PHX']"
      ]
     },
     "execution_count": 38,
     "metadata": {},
     "output_type": "execute_result"
    }
   ],
   "source": [
    "feature_names = X_train.columns\n",
    "selected_features_lda = feature_names[rfecv.support_].tolist()\n",
    "selected_features_lda\n",
    "\n",
    "print(\"\\nNumber of main features by Linear Discriminant Analysis: {}\\n\".format(len(selected_features_lda)))\n",
    "selected_features_lda"
   ]
  },
  {
   "cell_type": "markdown",
   "metadata": {},
   "source": [
    "Hemos almacenado cuales han sido las variables mas relevantes aplicando este algoritmo. Probemos ahora cambiando el modelo, en este caso aplicando una regresión logística, y comparemos resultados."
   ]
  },
  {
   "cell_type": "code",
   "execution_count": 32,
   "metadata": {},
   "outputs": [
    {
     "name": "stdout",
     "output_type": "stream",
     "text": [
      "Optimal number of features based on Logistic Regression : 29\n"
     ]
    },
    {
     "data": {
      "image/png": "[encoded data removed]",
      "text/plain": [
       "<Figure size 936x468 with 1 Axes>"
      ]
     },
     "metadata": {},
     "output_type": "display_data"
    }
   ],
   "source": [
    "# Create the RFE object and compute a cross-validated score.\n",
    "ranker = LogisticRegression()\n",
    "# The \"accuracy\" scoring is proportional to the number of correct classifications\n",
    "rfecv = RFECV(estimator=ranker, step=1, cv=StratifiedKFold(2),\n",
    "              scoring='accuracy')\n",
    "rfecv.fit(X_train_s, y_train)\n",
    "\n",
    "print(\"Optimal number of features based on Logistic Regression : %d\" % rfecv.n_features_)\n",
    "\n",
    "# Plot number of features VS. cross-validation scores\n",
    "plt.figure(figsize=(13, 6.5))\n",
    "plt.xlabel(\"Number of features selected\")\n",
    "plt.ylabel(\"Cross validation score (nb of correct classifications)\")\n",
    "plt.plot(range(1, len(rfecv.grid_scores_) + 1), rfecv.grid_scores_)\n",
    "plt.show()"
   ]
  },
  {
   "cell_type": "code",
   "execution_count": 36,
   "metadata": {},
   "outputs": [
    {
     "name": "stdout",
     "output_type": "stream",
     "text": [
      "\n",
      "Number of main features by Logistic regression: 29\n",
      "\n"
     ]
    },
    {
     "data": {
      "text/plain": [
       "['loc_y',\n",
       " 'shot_distance',\n",
       " 'remain_time',\n",
       " 'combined_shot_type#Bank Shot',\n",
       " 'combined_shot_type#Dunk',\n",
       " 'combined_shot_type#Jump Shot',\n",
       " 'combined_shot_type#Tip Shot',\n",
       " 'period#4',\n",
       " 'season#1997-98',\n",
       " 'season#2002-03',\n",
       " 'season#2003-04',\n",
       " 'season#2008-09',\n",
       " 'shot_type#2PT Field Goal',\n",
       " 'shot_type#3PT Field Goal',\n",
       " 'shot_zone_area#Back Court(BC)',\n",
       " 'shot_zone_area#Left Side(L)',\n",
       " 'shot_zone_area#Right Side(R)',\n",
       " 'shot_zone_basic#Above the Break 3',\n",
       " 'shot_zone_basic#Backcourt',\n",
       " 'shot_zone_basic#In The Paint (Non-RA)',\n",
       " 'shot_zone_basic#Restricted Area',\n",
       " 'shot_zone_range#16-24 ft.',\n",
       " 'shot_zone_range#8-16 ft.',\n",
       " 'shot_zone_range#Back Court Shot',\n",
       " 'shot_zone_range#Less Than 8 ft.',\n",
       " 'opponent#NYK',\n",
       " 'opponent#PHX',\n",
       " 'opponent#POR',\n",
       " 'opponent#SAC']"
      ]
     },
     "execution_count": 36,
     "metadata": {},
     "output_type": "execute_result"
    }
   ],
   "source": [
    "feature_names = X_train.columns\n",
    "selected_features_lr = feature_names[rfecv.support_].tolist()\n",
    "\n",
    "print(\"\\nNumber of main features by Logistic regression: {}\\n\".format(len(selected_features_lr)))\n",
    "selected_features_lr"
   ]
  },
  {
   "cell_type": "markdown",
   "metadata": {},
   "source": [
    "A través de un clasificador LDA obtenemos que el numero de variables importantes son unas 20, mientras que con una regresión logística obtenemos que con 30. Como vemos, los datos obtenido mediante un medio y otro difieren ligeramente. Para poder elegir las mejores variables combinando ambos métodos, lo que haremos será elegir la intersección entre ambos conjuntos de caracteristicas seleccionadas por cada uno. "
   ]
  },
  {
   "cell_type": "code",
   "execution_count": 40,
   "metadata": {},
   "outputs": [
    {
     "name": "stdout",
     "output_type": "stream",
     "text": [
      "\n",
      "Number of hest features: 17\n",
      "\n"
     ]
    },
    {
     "data": {
      "text/plain": [
       "['period#4',\n",
       " 'shot_zone_area#Right Side(R)',\n",
       " 'shot_zone_basic#In The Paint (Non-RA)',\n",
       " 'combined_shot_type#Tip Shot',\n",
       " 'combined_shot_type#Dunk',\n",
       " 'shot_distance',\n",
       " 'shot_zone_range#Back Court Shot',\n",
       " 'shot_zone_basic#Above the Break 3',\n",
       " 'shot_type#3PT Field Goal',\n",
       " 'shot_zone_area#Left Side(L)',\n",
       " 'opponent#PHX',\n",
       " 'remain_time',\n",
       " 'shot_zone_range#Less Than 8 ft.',\n",
       " 'shot_zone_basic#Restricted Area',\n",
       " 'combined_shot_type#Bank Shot',\n",
       " 'combined_shot_type#Jump Shot',\n",
       " 'season#1997-98']"
      ]
     },
     "execution_count": 40,
     "metadata": {},
     "output_type": "execute_result"
    }
   ],
   "source": [
    "best_features = list(set(selected_features_lr) & set(selected_features_lda))\n",
    "\n",
    "print(\"\\nNumber of hest features: {}\\n\".format(len(best_features)))\n",
    "best_features"
   ]
  },
  {
   "cell_type": "markdown",
   "metadata": {},
   "source": [
    "Casualmente nos hemos quedado con las mismas que selecciono el algoritmo LDA"
   ]
  },
  {
   "cell_type": "markdown",
   "metadata": {},
   "source": [
    "## 4.4. First modelling\n",
    "\n",
    "<a id='first'></a>"
   ]
  },
  {
   "cell_type": "markdown",
   "metadata": {},
   "source": [
    "En este momento, toca implementar diferentes modelos y técnicas. Para ello, aplicaremos un cross validation con 5 folds para diferendes modelos y las principales variables."
   ]
  },
  {
   "cell_type": "code",
   "execution_count": 41,
   "metadata": {
    "scrolled": false
   },
   "outputs": [
    {
     "name": "stdout",
     "output_type": "stream",
     "text": [
      "Cross validation results for LDA: [-0.64944257 -0.65130912 -0.65755328 -0.64747824 -0.65287021]\n",
      "LDA: (-0.652) +/- (0.003) \n",
      "\n",
      "Cross validation results for QDA: [-16.75298148 -12.34605427 -14.90492841 -15.31592476 -13.74324035]\n",
      "QDA: (-14.613) +/- (1.487) \n",
      "\n",
      "Cross validation results for Logistic regression: [-0.64947547 -0.65589848 -0.65431098 -0.64614341 -0.65004763]\n",
      "Logistic regression: (-0.651) +/- (0.004) \n",
      "\n",
      "Cross validation results for Random Forest: [-3.68016909 -3.9860718  -3.72512309 -3.69793984 -3.55103058]\n",
      "Random Forest: (-3.728) +/- (0.142) \n",
      "\n",
      "Cross validation results for Ada Boost: [-0.68982013 -0.69008081 -0.69007486 -0.68989877 -0.69051578]\n",
      "Ada Boost: (-0.690) +/- (0.000) \n",
      "\n",
      "Cross validation results for Gradient Boosting: [-0.65245146 -0.64846233 -0.6486038  -0.64924547 -0.65594549]\n",
      "Gradient Boosting: (-0.651) +/- (0.003) \n",
      "\n",
      "Cross validation results for XGBoost: [-0.65252698 -0.65637412 -0.64420961 -0.6449685  -0.65175392]\n",
      "XGBoost: (-0.650) +/- (0.005) \n",
      "\n",
      "Cross validation results for Bagging: [-2.4814228  -2.40075584 -2.37093301 -2.49421046 -2.38301881]\n",
      "Bagging: (-2.426) +/- (0.051) \n",
      "\n",
      "Cross validation results for KNN: [-1.74469964 -1.90287173 -2.0300094  -1.97305112 -2.08793794]\n",
      "KNN: (-1.948) +/- (0.119) \n",
      "\n",
      "Cross validation results for MLP: [-0.94630951 -0.87282427 -0.77296057 -0.65272092 -0.77733115]\n",
      "MLP: (-0.804) +/- (0.100) \n",
      "\n",
      "Cross validation results for Gauss: [-1.22080021 -1.24802561 -1.3531574  -1.30824208 -1.28822296]\n",
      "Gauss: (-1.284) +/- (0.046) \n",
      "\n",
      "Cross validation results for Voting: [-0.65756325 -0.65399169 -0.65427677 -0.66050164 -0.65262733]\n",
      "Voting: (-0.656) +/- (0.003) \n",
      "\n",
      "--- 36.593985080718994 seconds ---\n"
     ]
    }
   ],
   "source": [
    "num_folds = 5\n",
    "kfold = KFold(n_splits=num_folds, shuffle = True)\n",
    "\n",
    "models = []\n",
    "models.append((\"LDA\", LinearDiscriminantAnalysis()))\n",
    "models.append((\"QDA\", QuadraticDiscriminantAnalysis()))\n",
    "models.append(('Logistic regression', LogisticRegression()))\n",
    "models.append(('Random Forest', RandomForestClassifier()))\n",
    "models.append(('Ada Boost', AdaBoostClassifier()))\n",
    "models.append(('Gradient Boosting', GradientBoostingClassifier()))\n",
    "models.append(('XGBoost', XGBClassifier()))\n",
    "models.append((\"Bagging\", BaggingClassifier()))\n",
    "models.append((\"KNN\", KNeighborsClassifier()))\n",
    "models.append((\"MLP\", MLPClassifier()))\n",
    "models.append((\"Gauss\", GaussianNB()))\n",
    "models.append((\"Voting\", VotingClassifier(estimators=[\n",
    "                                                    ('lr', LogisticRegression()), \n",
    "                                                    ('rf', AdaBoostClassifier()), \n",
    "                                                    ('xgb', XGBClassifier())], voting='soft')))\n",
    "\n",
    "\n",
    "\n",
    "start_time = time.time()\n",
    "# Evaluate each model in turn\n",
    "results = []\n",
    "names = []\n",
    "stds = []\n",
    "means =[]\n",
    "for name, model in models:\n",
    "    cv_results = cross_val_score(model, X_train[best_features], y_train, cv=kfold, scoring='neg_log_loss', n_jobs=1)\n",
    "    print(\"Cross validation results for {0}: {1}\".format(name, cv_results))\n",
    "    print(\"{0}: ({1:.3f}) +/- ({2:.3f})\".format(name, cv_results.mean(), cv_results.std()),\"\\n\")\n",
    "    results.append(cv_results)\n",
    "    names.append(name)\n",
    "    stds.append(cv_results.std())\n",
    "    means.append(abs(cv_results.mean()))\n",
    "    \n",
    "    \n",
    "print(\"--- %s seconds ---\" % (time.time() - start_time))"
   ]
  },
  {
   "cell_type": "markdown",
   "metadata": {},
   "source": [
    "Los resultados mostrados son propios de mas de 10 modelos en los que hemos dejado por defecto los hiperparametros. Tiene sentido que habiendo seleccionado las mejores variables segun LDA y Linear Regression , sean dos de los modelos que mejores resultados obtienen. Pero no solo tenemos esos dos, si no también han obtenido muy buenos resultados Gradient Boosting y XGboots, ya que es una versión modificada del anterior. Lo que haremos ahora será, seleccionar esos 3 o 4 modelos mas importantes, y tratar de optimizar los hiperparametros."
   ]
  },
  {
   "cell_type": "markdown",
   "metadata": {},
   "source": [
    "## 4.5 Second modelling"
   ]
  },
  {
   "cell_type": "markdown",
   "metadata": {},
   "source": [
    "Finalmente elegiremos los modelos que a priori mejor resultados nos habian dado. En este caso, aplicaremos un grid de hiperparametros para cada parametros y los iremos seleccionando de forma aleatoria."
   ]
  },
  {
   "cell_type": "code",
   "execution_count": 42,
   "metadata": {},
   "outputs": [],
   "source": [
    "classifiers = {}\n",
    "#classifiers.update({\"LDA\": LinearDiscriminantAnalysis()})\n",
    "classifiers.update({\"Gradient Boosting\": GradientBoostingClassifier()})\n",
    "#classifiers.update({\"Logistic Regression\": LogisticRegression()})\n",
    "classifiers.update({\"XGB\": XGBClassifier()})"
   ]
  },
  {
   "cell_type": "code",
   "execution_count": 65,
   "metadata": {},
   "outputs": [],
   "source": [
    "parameters = {}\n",
    "\n",
    "\n",
    "#parameters.update({\"LDA\": { \n",
    "#                            \"classifier__solver\":[\"svd\",\"lsqr\", \"eigen\"], \n",
    "#                            \"classifier__n_components\": [2,4,6,8,10], \n",
    "#                            }})\n",
    "\n",
    "\n",
    "\n",
    "\n",
    "parameters.update({\"Gradient Boosting\": { \n",
    "                                        \"classifier__learning_rate\":[0.15,0.1,0.05,0.01,0.005,0.001], \n",
    "                                        \"classifier__n_estimators\": [200],\n",
    "                                        \"classifier__max_depth\": [2,3,4,5,6],\n",
    "                                        \"classifier__min_samples_split\": [0.005, 0.01, 0.05, 0.10],\n",
    "                                        \"classifier__min_samples_leaf\": [0.005, 0.01, 0.05, 0.10],\n",
    "                                        \"classifier__max_features\": [\"auto\", \"sqrt\", \"log2\"],\n",
    "                                        \"classifier__subsample\": [0.8, 0.9, 1]\n",
    "                                         }})\n",
    "\n",
    "#parameters.update({\"Logistic Regression\": { \n",
    "#                                        \"classifier__penalty\":[\"l1\", \"l2\", \"elasticnet\"], \n",
    "#                                        \"classifier__tol\": [0.0005, 0.00005, 0.00001],\n",
    "#                                        \"classifier__mmax_iter\": [100,200,150],\n",
    "#                                         }})\n",
    "\n",
    "parameters.update({\"XGB\": { \n",
    "                        \"classifier__n_estimators\":[150,200,250], \n",
    "                        \"classifier__learning_rate\": [0.001, 0.005, 0.1, 0.5],\n",
    "                        \"classifier__max_depth\": [5,6],\n",
    "                        \"classifier__subsample\": [0.5,0.7,0.8,0.9,1]\n",
    "                         }})\n"
   ]
  },
  {
   "cell_type": "code",
   "execution_count": 67,
   "metadata": {
    "scrolled": false
   },
   "outputs": [
    {
     "name": "stdout",
     "output_type": "stream",
     "text": [
      "Now tuning Gradient Boosting.\n",
      "Fitting 5 folds for each of 10 candidates, totalling 50 fits\n"
     ]
    },
    {
     "name": "stderr",
     "output_type": "stream",
     "text": [
      "[Parallel(n_jobs=1)]: Using backend SequentialBackend with 1 concurrent workers.\n",
      "[Parallel(n_jobs=1)]: Done  50 out of  50 | elapsed:  4.0min finished\n"
     ]
    },
    {
     "name": "stdout",
     "output_type": "stream",
     "text": [
      "Now tuning XGB.\n",
      "Fitting 5 folds for each of 10 candidates, totalling 50 fits\n"
     ]
    },
    {
     "name": "stderr",
     "output_type": "stream",
     "text": [
      "[Parallel(n_jobs=1)]: Using backend SequentialBackend with 1 concurrent workers.\n",
      "[Parallel(n_jobs=1)]: Done  50 out of  50 | elapsed: 20.0min finished\n"
     ]
    },
    {
     "name": "stdout",
     "output_type": "stream",
     "text": [
      "--- 1463.86625623703 seconds ---\n"
     ]
    }
   ],
   "source": [
    "results = {}\n",
    "start_time = time.time()\n",
    "# Tune and evaluate classifiers\n",
    "for classifier_label, classifier in classifiers.items():\n",
    "    \n",
    "    # Print message to user\n",
    "    print(f\"Now tuning {classifier_label}.\")\n",
    "\n",
    "    # Initialize Pipeline object\n",
    "    pipeline = Pipeline([\n",
    "                        (\"scaler\", StandardScaler()), \n",
    "                        (\"classifier\", classifier)\n",
    "    ])\n",
    "\n",
    "    # Define parameter grid\n",
    "    param_grid = parameters[classifier_label]\n",
    "\n",
    "    # Initialize GridSearch object\n",
    "    rscv = RandomizedSearchCV(pipeline, param_grid, cv = 5,  n_jobs= 1, verbose = 1, scoring = \"neg_log_loss\")\n",
    "    #rscv = GridSearchCV(pipeline, param_grid, cv = 5,  n_jobs= 1, verbose = 1, scoring = \"neg_log_loss\")\n",
    "\n",
    "\n",
    "    # Fit gscv\n",
    "    rscv.fit(X_train, np.ravel(y_train))  \n",
    "\n",
    "    # Get best parameters and score\n",
    "    best_params = rscv.best_params_\n",
    "    best_score = rscv.best_score_\n",
    "\n",
    "    # Update classifier parameters and define new pipeline with tuned classifier\n",
    "    tuned_params = {item[12:]: best_params[item] for item in best_params}\n",
    "    classifier.set_params(**tuned_params)\n",
    "\n",
    "    # Make predictions\n",
    "    y_pred = rscv.predict_proba(X_test)[:,1]\n",
    "\n",
    "    # Evaluate model\n",
    "    log_loss = metrics.log_loss(y_test, y_pred)\n",
    "\n",
    "    # Save results\n",
    "    result = {\"Classifier\": rscv,\n",
    "              \"Best Parameters\": best_params,\n",
    "              \"Training Log Loss\": (-1) * best_score,\n",
    "              \"Test Log Loss\": log_loss\n",
    "             }\n",
    "\n",
    "    results.update({classifier_label: result})\n",
    "\n",
    "print(\"--- %s seconds ---\" % (time.time() - start_time))"
   ]
  },
  {
   "cell_type": "markdown",
   "metadata": {},
   "source": [
    "Veamos gráficamente los resultados obtenidos"
   ]
  },
  {
   "cell_type": "code",
   "execution_count": 68,
   "metadata": {
    "scrolled": false
   },
   "outputs": [
    {
     "data": {
      "image/png": "[encoded data removed]",
      "text/plain": [
       "<Figure size 864x648 with 1 Axes>"
      ]
     },
     "metadata": {},
     "output_type": "display_data"
    }
   ],
   "source": [
    "log_scores = {\n",
    "              \"Classifier\": [],\n",
    "              \"Log Loss\": [],\n",
    "              \"Log Loss Type\": []\n",
    "              }\n",
    "\n",
    "# Get AUC scores into dictionary\n",
    "for classifier_label in results:\n",
    "    log_scores.update({\"Classifier\": [classifier_label] + log_scores[\"Classifier\"],\n",
    "                       \"Log Loss\": [results[classifier_label][\"Training Log Loss\"]] + log_scores[\"Log Loss\"],\n",
    "                       \"Log Loss Type\": [\"Training\"] + log_scores[\"Log Loss Type\"]})\n",
    "    \n",
    "    log_scores.update({\"Classifier\": [classifier_label] + log_scores[\"Classifier\"],\n",
    "                       \"Log Loss\": [results[classifier_label][\"Test Log Loss\"]] + log_scores[\"Log Loss\"],\n",
    "                       \"Log Loss Type\": [\"Test\"] + log_scores[\"Log Loss Type\"]})\n",
    "    \n",
    "\n",
    "\n",
    "# Dictionary to PandasDataFrame\n",
    "log_scores = pd.DataFrame(log_scores)\n",
    "\n",
    "# Set graph style\n",
    "sns.set(font_scale = 1.75)\n",
    "sns.set_style({\"axes.facecolor\": \"1.0\", \"axes.edgecolor\": \"0.85\", \"grid.color\": \"0.85\",\n",
    "               \"grid.linestyle\": \"-\", 'axes.labelcolor': '0.4', \"xtick.color\": \"0.4\",\n",
    "               'ytick.color': '0.4'})\n",
    "\n",
    "    \n",
    "# Colors\n",
    "training_color = sns.color_palette(\"RdYlBu\", 10)[1]\n",
    "test_color = sns.color_palette(\"RdYlBu\", 10)[-2]\n",
    "colors = [training_color, test_color]\n",
    "\n",
    "# Set figure size and create barplot\n",
    "f, ax = plt.subplots(figsize=(12, 9))\n",
    "\n",
    "sns.barplot(x=\"Log Loss\", y=\"Classifier\", hue=\"Log Loss Type\", palette = colors, data=log_scores)\n",
    "\n",
    "# Generate a bolded horizontal line at y = 0\n",
    "ax.axvline(x = 0, color = 'black', linewidth = 4, alpha = .7)\n",
    "\n",
    "# Turn frame off\n",
    "ax.set_frame_on(False)\n",
    "\n",
    "# Tight layout\n",
    "plt.tight_layout()\n"
   ]
  },
  {
   "cell_type": "code",
   "execution_count": 71,
   "metadata": {},
   "outputs": [
    {
     "data": {
      "text/html": [
       "<div>\n",
       "<style scoped>\n",
       "    .dataframe tbody tr th:only-of-type {\n",
       "        vertical-align: middle;\n",
       "    }\n",
       "\n",
       "    .dataframe tbody tr th {\n",
       "        vertical-align: top;\n",
       "    }\n",
       "\n",
       "    .dataframe thead th {\n",
       "        text-align: right;\n",
       "    }\n",
       "</style>\n",
       "<table border=\"1\" class=\"dataframe\">\n",
       "  <thead>\n",
       "    <tr style=\"text-align: right;\">\n",
       "      <th></th>\n",
       "      <th>Classifier</th>\n",
       "      <th>Log Loss</th>\n",
       "      <th>Log Loss Type</th>\n",
       "    </tr>\n",
       "  </thead>\n",
       "  <tbody>\n",
       "    <tr>\n",
       "      <td>0</td>\n",
       "      <td>XGB</td>\n",
       "      <td>0.659875</td>\n",
       "      <td>Test</td>\n",
       "    </tr>\n",
       "    <tr>\n",
       "      <td>1</td>\n",
       "      <td>XGB</td>\n",
       "      <td>0.662006</td>\n",
       "      <td>Training</td>\n",
       "    </tr>\n",
       "    <tr>\n",
       "      <td>2</td>\n",
       "      <td>Gradient Boosting</td>\n",
       "      <td>0.649049</td>\n",
       "      <td>Test</td>\n",
       "    </tr>\n",
       "    <tr>\n",
       "      <td>3</td>\n",
       "      <td>Gradient Boosting</td>\n",
       "      <td>0.652351</td>\n",
       "      <td>Training</td>\n",
       "    </tr>\n",
       "  </tbody>\n",
       "</table>\n",
       "</div>"
      ],
      "text/plain": [
       "          Classifier  Log Loss Log Loss Type\n",
       "0                XGB  0.659875          Test\n",
       "1                XGB  0.662006      Training\n",
       "2  Gradient Boosting  0.649049          Test\n",
       "3  Gradient Boosting  0.652351      Training"
      ]
     },
     "execution_count": 71,
     "metadata": {},
     "output_type": "execute_result"
    }
   ],
   "source": [
    "log_scores"
   ]
  },
  {
   "cell_type": "code",
   "execution_count": null,
   "metadata": {},
   "outputs": [],
   "source": []
  },
  {
   "cell_type": "code",
   "execution_count": 69,
   "metadata": {},
   "outputs": [
    {
     "name": "stdout",
     "output_type": "stream",
     "text": [
      "0.9\n",
      "9.992007221626415e-16\n"
     ]
    }
   ],
   "source": []
  },
  {
   "cell_type": "code",
   "execution_count": null,
   "metadata": {},
   "outputs": [],
   "source": [
    "print(metrics.roc_auc_score(np.array([1,0,0,1,1,1,1]),np.array([1,0,0,1,1,1,0])))\n",
    "print(metrics.log_loss(np.array([1,0,0,1,1,1,0]),np.array([1,0,0,1,1,1,0])))"
   ]
  },
  {
   "cell_type": "code",
   "execution_count": null,
   "metadata": {},
   "outputs": [],
   "source": []
  },
  {
   "cell_type": "code",
   "execution_count": null,
   "metadata": {},
   "outputs": [],
   "source": []
  }
 ],
 "metadata": {
  "kernelspec": {
   "display_name": "Python 3",
   "language": "python",
   "name": "python3"
  },
  "language_info": {
   "codemirror_mode": {
    "name": "ipython",
    "version": 3
   },
   "file_extension": ".py",
   "mimetype": "text/x-python",
   "name": "python",
   "nbconvert_exporter": "python",
   "pygments_lexer": "ipython3",
   "version": "3.7.4"
  }
 },
 "nbformat": 4,
 "nbformat_minor": 2
}
